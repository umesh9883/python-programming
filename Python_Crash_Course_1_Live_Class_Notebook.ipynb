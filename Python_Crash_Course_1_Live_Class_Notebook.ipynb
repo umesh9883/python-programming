{
  "nbformat": 4,
  "nbformat_minor": 0,
  "metadata": {
    "colab": {
      "provenance": [],
      "collapsed_sections": [
        "fyUKWVR3szwF",
        "xVmjpxstX4oT",
        "zyxYXVY_mmDS",
        "CNX5AbUtzV0X",
        "0gSK121Y1Wgy",
        "0x7drQPsC0iw"
      ],
      "include_colab_link": true
    },
    "kernelspec": {
      "name": "python3",
      "display_name": "Python 3"
    },
    "language_info": {
      "name": "python"
    }
  },
  "cells": [
    {
      "cell_type": "markdown",
      "metadata": {
        "id": "view-in-github",
        "colab_type": "text"
      },
      "source": [
        "<a href=\"https://colab.research.google.com/github/umesh9883/python-programming/blob/main/Python_Crash_Course_1_Live_Class_Notebook.ipynb\" target=\"_parent\"><img src=\"https://colab.research.google.com/assets/colab-badge.svg\" alt=\"Open In Colab\"/></a>"
      ]
    },
    {
      "cell_type": "markdown",
      "source": [
        "# Basics of Python\n",
        "\n"
      ],
      "metadata": {
        "id": "fyUKWVR3szwF"
      }
    },
    {
      "cell_type": "markdown",
      "source": [
        "`print()` is a function in python which takes a string and will print the content on the console.\n",
        "\n",
        "We also have comments which can be used in Python, whatever is represented as comments will never be processed by Python.\n",
        "\n",
        "Remember, comments are essential for making your code readable and understandable, especially for yourself and others who may read your code in the future. Use them to explain your thought process, document important details, and clarify complex parts of your code."
      ],
      "metadata": {
        "id": "EKkgMIl-tUFo"
      }
    },
    {
      "cell_type": "code",
      "source": [
        "\"\"\"\n",
        "This is a multi-\n",
        "line comment using triple quotes\n",
        "and this will never be executed by python.\n",
        "\"\"\"\n",
        "\n",
        "# Also this is a single-line comment\n",
        "\n",
        "print(\"This will be printed on the console\")\n",
        "\n",
        "print(\"Hello\") # This is an in-line comment\n"
      ],
      "metadata": {
        "colab": {
          "base_uri": "https://localhost:8080/"
        },
        "id": "rUCH-wJktA7n",
        "outputId": "f801cfde-6717-4cd2-9bb9-f4ae1a679d9d"
      },
      "execution_count": null,
      "outputs": [
        {
          "output_type": "stream",
          "name": "stdout",
          "text": [
            "This will be printed on the console\n",
            "Hello\n"
          ]
        }
      ]
    },
    {
      "cell_type": "markdown",
      "source": [
        "# Variables & Data Types\n",
        "\n"
      ],
      "metadata": {
        "id": "xVmjpxstX4oT"
      }
    },
    {
      "cell_type": "code",
      "source": [
        "name = \"Alice\" # String data type\n",
        "\n",
        "age = 18 # integer data type\n",
        "\n",
        "has_license = True # boolean data type\n",
        "\n",
        "cgpa = 3.8 # float data type\n",
        "\n",
        "print(name)\n",
        "print(\"Current age:\", age)\n",
        "\n",
        "# Creating / modifying variables\n",
        "\n",
        "updated_age = age + 5\n",
        "\n",
        "print(\"New updated age:\", updated_age)\n",
        "\n",
        "print(type(age))\n",
        "\n",
        "print(type(name))\n",
        "\n",
        "print(type(has_license))\n",
        "\n",
        "print(type(cgpa))"
      ],
      "metadata": {
        "colab": {
          "base_uri": "https://localhost:8080/"
        },
        "id": "8UjNjpdaX9GV",
        "outputId": "fa0f8f0b-b164-4875-c127-a01a57237b2e"
      },
      "execution_count": null,
      "outputs": [
        {
          "output_type": "stream",
          "name": "stdout",
          "text": [
            "Alice\n",
            "Current age: 18\n",
            "New updated age: 23\n",
            "<class 'int'>\n",
            "<class 'str'>\n",
            "<class 'bool'>\n",
            "<class 'float'>\n"
          ]
        }
      ]
    },
    {
      "cell_type": "markdown",
      "source": [
        "We can declare strings using single quotes or double quotes. Also below are examples which will show how you can use a single quote or double quote or both inside a string. If you want to use any of the quote inside the string you can always use `\\` which is called an escape character which will escape the `\"` or `'`. Below are the examples:"
      ],
      "metadata": {
        "id": "FkOUnjRZY_Pd"
      }
    },
    {
      "cell_type": "code",
      "source": [
        "\n",
        "greeting_double_quotes = \"She said, 'Hello, World!'\"\n",
        "\n",
        "greeting_single_quotes = 'He said, \"Hello, World!\"'\n",
        "\n",
        "greeting_escape_character = \"She said, \\\"Hello, World!\\\" from \\'Python\\'\"\n",
        "\n",
        "greething_with_single_quotes='''She said, Hello World!'''\n",
        "\n",
        "\n",
        "print(greeting_double_quotes)\n",
        "\n",
        "print(greeting_single_quotes)\n",
        "\n",
        "print(greeting_escape_character)\n",
        "\n",
        "print(greething_with_single_quotes)\n",
        "\n"
      ],
      "metadata": {
        "colab": {
          "base_uri": "https://localhost:8080/"
        },
        "id": "1JrSrXj0Y9vM",
        "outputId": "235bb813-61a2-49ed-d6fa-6ab689b51534"
      },
      "execution_count": null,
      "outputs": [
        {
          "output_type": "stream",
          "name": "stdout",
          "text": [
            "She said, 'Hello, World!'\n",
            "He said, \"Hello, World!\"\n",
            "She said, \"Hello, World!\" from 'Python'\n",
            "She said, Hello World!\n"
          ]
        }
      ]
    },
    {
      "cell_type": "markdown",
      "source": [
        "# Arithmetic Operators"
      ],
      "metadata": {
        "id": "zyxYXVY_mmDS"
      }
    },
    {
      "cell_type": "markdown",
      "source": [
        "We will perform all the arithmetic operations available in python and see the results. Below are all the operations.\n",
        "\n",
        "We will consider two variables `a` and `b`. For each operation we will create a new variable to store the result and print it at the end.\n",
        "\n",
        "You can also observe that floor division and divison operation gives `int` and `float` values respectively."
      ],
      "metadata": {
        "id": "f48bOgppxzpb"
      }
    },
    {
      "cell_type": "code",
      "source": [
        "a = 10\n",
        "\n",
        "b = 4\n",
        "\n",
        "addition = a + b # Adding of 2 numbers\n",
        "\n",
        "subtraction = a - b # Subtracting of 2 numbers\n",
        "\n",
        "multiplication = a * b # Multiplication of 2 numbers\n",
        "\n",
        "division = a / b # Division of 2 numbers\n",
        "\n",
        "floor_division = a // b # Integer part of the division operation\n",
        "\n",
        "remainder = a % b # returns the remainder of the division operation\n",
        "\n",
        "power = a ** b # returns by performing a to the power of b\n",
        "\n",
        "\n",
        "print(\"addition of a and b is:\", addition)\n",
        "\n",
        "print(\"subtraction of a and b is:\", subtraction)\n",
        "\n",
        "print(\"multiplication of a and b is:\", multiplication)\n",
        "\n",
        "print(\"division of a and b is:\", division)\n",
        "\n",
        "print(\"Division \",type(division)) # This should be float\n",
        "\n",
        "print(\"floor_division of a and b is:\", floor_division)\n",
        "\n",
        "print(type(floor_division)) # This should be int\n",
        "\n",
        "print(\"remainder of a and b is:\", remainder)\n",
        "\n",
        "print(\"power of a and b is:\", power)\n",
        "\n",
        "print(\"type of division result:\", type(division)) # Python implicitly converts it to float type for division operation"
      ],
      "metadata": {
        "colab": {
          "base_uri": "https://localhost:8080/"
        },
        "id": "OHo5Ys7Uu5kT",
        "outputId": "e21bcd03-dabc-4d23-b049-484e60f59593"
      },
      "execution_count": null,
      "outputs": [
        {
          "output_type": "stream",
          "name": "stdout",
          "text": [
            "addition of a and b is: 14\n",
            "subtraction of a and b is: 6\n",
            "multiplication of a and b is: 40\n",
            "division of a and b is: 2.5\n",
            "<class 'float'>\n",
            "floor_division of a and b is: 2\n",
            "<class 'int'>\n",
            "remainder of a and b is: 2\n",
            "power of a and b is: 10000\n",
            "type of division result: <class 'float'>\n"
          ]
        }
      ]
    },
    {
      "cell_type": "markdown",
      "source": [
        "# Assignment Operators"
      ],
      "metadata": {
        "id": "CNX5AbUtzV0X"
      }
    },
    {
      "cell_type": "markdown",
      "source": [
        "Assignment operators in Python are used to assign values to variables. They combine an operation with assignment.\n",
        "\n",
        "We can use any arithmetic operator followed by `=` which makes it in-place assignment operation, For example: `+=` adds the right operand to the left operand and assigns the result to the left operand. It is a shorthand notation for updating the value of a variable by adding another value to it. Below are the examples:"
      ],
      "metadata": {
        "id": "4fEnIX_wze78"
      }
    },
    {
      "cell_type": "code",
      "source": [
        "# Examples of Assignment Operators\n",
        "a = 10\n",
        "\n",
        "# Assign value\n",
        "b = a\n",
        "print(b)\n",
        "\n",
        "# Add and assign value\n",
        "b = b + 10  # 20\n",
        "\n",
        "\n",
        "#Use += to add 10 to the existing value of b\n",
        "b += 10  # b = b + 10\n",
        "\n",
        "print(b)\n",
        "\n",
        "b /= 10 #option 1\n",
        "b = b / 10 #option 2\n",
        "\n",
        "# Subtract and assign value\n",
        "b -= a  # b = b - a\n",
        "print(b)\n",
        "\n",
        "# multiply and assign\n",
        "b *= a\n",
        "b = b * a\n",
        "print(b)"
      ],
      "metadata": {
        "colab": {
          "base_uri": "https://localhost:8080/"
        },
        "id": "KmmGHwYVzymF",
        "outputId": "a85517da-eadd-4188-f7e3-a7818818a5f6"
      },
      "execution_count": null,
      "outputs": [
        {
          "output_type": "stream",
          "name": "stdout",
          "text": [
            "10\n",
            "30\n",
            "-9.7\n",
            "-970.0\n"
          ]
        }
      ]
    },
    {
      "cell_type": "markdown",
      "source": [
        "# Comparison Operators"
      ],
      "metadata": {
        "id": "0gSK121Y1Wgy"
      }
    },
    {
      "cell_type": "markdown",
      "source": [
        "Comparison operators in Python are used to compare values and expressions, and they return a Boolean result (True or False). These operators play a crucial role in controlling the flow of a program, making decisions based on conditions, and expressing relationships between different values."
      ],
      "metadata": {
        "id": "22Fj1Q8S1aZu"
      }
    },
    {
      "cell_type": "code",
      "source": [
        "a = 40\n",
        "b = 30\n",
        "\n",
        "# a > b is False\n",
        "\n",
        "x = a > b # False\n",
        "print(x)\n",
        "\n",
        "# a < b is True\n",
        "print(a < b)\n",
        "\n",
        "# a == b is False\n",
        "print(a == b)\n",
        "\n",
        "# a != b is True\n",
        "print(a != b)\n",
        "\n",
        "# a >= b is False\n",
        "print(a >= b)\n",
        "\n",
        "# a <= b is True\n",
        "print(a <= b)"
      ],
      "metadata": {
        "colab": {
          "base_uri": "https://localhost:8080/"
        },
        "id": "cNdXX8IGAOKt",
        "outputId": "538ed965-ceee-402b-9579-cb2ac29b0bda"
      },
      "execution_count": null,
      "outputs": [
        {
          "output_type": "stream",
          "name": "stdout",
          "text": [
            "True\n",
            "False\n",
            "False\n",
            "True\n",
            "True\n",
            "False\n"
          ]
        }
      ]
    },
    {
      "cell_type": "markdown",
      "source": [
        "# Logical Operators"
      ],
      "metadata": {
        "id": "0x7drQPsC0iw"
      }
    },
    {
      "cell_type": "code",
      "source": [
        "\n",
        "a = True\n",
        "b = False\n",
        "\n",
        "\n",
        "\n",
        "# Print a and b is False\n",
        "print(a and b)\n",
        "\n",
        "# Print a or b is True\n",
        "print(a or b)\n",
        "\n",
        "# Print not a is False\n",
        "print(not a)\n",
        "\n",
        "print(not b)"
      ],
      "metadata": {
        "colab": {
          "base_uri": "https://localhost:8080/"
        },
        "id": "Fn5lH-QFC-Lq",
        "outputId": "0f43073b-3bc0-48d7-a27c-159eb05c41fd"
      },
      "execution_count": null,
      "outputs": [
        {
          "output_type": "stream",
          "name": "stdout",
          "text": [
            "False\n",
            "True\n",
            "False\n",
            "True\n"
          ]
        }
      ]
    },
    {
      "cell_type": "code",
      "source": [
        "\n",
        "a = True\n",
        "b = False\n",
        "\n",
        "c = a or b # || in other languagaes\n",
        "d = a and b  # && in other languages\n",
        "\n",
        "a += 1\n",
        "\n",
        "print(c)\n",
        "print(d)"
      ],
      "metadata": {
        "colab": {
          "base_uri": "https://localhost:8080/"
        },
        "id": "n1znxDH3DADo",
        "outputId": "fe58c0d4-2e07-4200-bdc7-cfbed4302712"
      },
      "execution_count": null,
      "outputs": [
        {
          "output_type": "stream",
          "name": "stdout",
          "text": [
            "True\n",
            "False\n"
          ]
        }
      ]
    },
    {
      "cell_type": "markdown",
      "source": [
        "# If Else Statements"
      ],
      "metadata": {
        "id": "6-pJouhZsZMC"
      }
    },
    {
      "cell_type": "markdown",
      "source": [
        "The below code is to find whether the given number is even or odd using conditional statements"
      ],
      "metadata": {
        "id": "bS3Oc-OFt26Q"
      }
    },
    {
      "cell_type": "code",
      "source": [
        "for i in range(1, 10, 2):\n",
        "  print(i)"
      ],
      "metadata": {
        "colab": {
          "base_uri": "https://localhost:8080/"
        },
        "id": "WWcm10hmKB3H",
        "outputId": "8c41b47d-c754-451f-d8a2-cdd626c19172"
      },
      "execution_count": null,
      "outputs": [
        {
          "output_type": "stream",
          "name": "stdout",
          "text": [
            "1\n",
            "3\n",
            "5\n",
            "7\n",
            "9\n"
          ]
        }
      ]
    },
    {
      "cell_type": "code",
      "source": [
        "for i in range(1, 10, 2):\n",
        "  print(i,end=' ')"
      ],
      "metadata": {
        "colab": {
          "base_uri": "https://localhost:8080/"
        },
        "id": "Hu_q7TLnMPKd",
        "outputId": "a8c44351-0002-4c8d-db35-bf3bc8d92ef3"
      },
      "execution_count": null,
      "outputs": [
        {
          "output_type": "stream",
          "name": "stdout",
          "text": [
            "1 3 5 7 9 "
          ]
        }
      ]
    },
    {
      "cell_type": "code",
      "source": [
        "a = None\n",
        "a = 10\n",
        "\n",
        "# if-else\n",
        "\"\"\"\n",
        "if a % 2 == 0:\n",
        "    print(\"Hey its even\")\n",
        "else:\n",
        "    print(\"Hey its odd\")\n",
        "print(\"It might be even or odd, I will always be executed\")\n",
        "\"\"\"\n",
        "\n",
        "if (a > 5 and a is not None):\n",
        "  print(\"Helllo\")\n",
        "else:\n",
        "  print(\"I am bad\")\n",
        "\n",
        "\n",
        "for i in range(1, 10, 2):\n",
        "  if i <= 5:\n",
        "    print(\"Cold\", i)\n",
        "    continue\n",
        "  if i >= 5:\n",
        "    print(\"hot\", i)\n",
        "    break\n"
      ],
      "metadata": {
        "colab": {
          "base_uri": "https://localhost:8080/"
        },
        "id": "zrcnWUL2sdI6",
        "outputId": "d5a5cbb5-f22c-4412-df8c-47ec9cf4776c"
      },
      "execution_count": null,
      "outputs": [
        {
          "output_type": "stream",
          "name": "stdout",
          "text": [
            "Helllo\n",
            "Cold 1\n",
            "Cold 3\n",
            "Cold 5\n",
            "hot 7\n"
          ]
        }
      ]
    },
    {
      "cell_type": "markdown",
      "source": [
        "The below code is find the grade of a student from the score."
      ],
      "metadata": {
        "id": "H2J8MSsgt93q"
      }
    },
    {
      "cell_type": "code",
      "source": [
        "# if else statements to find the Grade of a student based on the exam score\n",
        "\n",
        "score = 91\n",
        "\n",
        "# Check the grade based on the score\n",
        "if score >= 90:\n",
        "    # Grade A: If the score is 90 or above\n",
        "    print(\"Grade: A\")\n",
        "elif score >= 80:\n",
        "    # Grade B: If the score is between 80 and 89\n",
        "    print(\"Grade: B\")\n",
        "elif score >= 70:\n",
        "    # Grade C: If the score is between 70 and 79\n",
        "    print(\"Grade: C\")\n",
        "elif score >= 60:\n",
        "    # Grade D: If the score is between 60 and 69\n",
        "    print(\"Grade: D\")\n",
        "else:\n",
        "    # Grade F: If the score is below 60\n",
        "    print(\"Grade: F (Fail)\")"
      ],
      "metadata": {
        "colab": {
          "base_uri": "https://localhost:8080/"
        },
        "id": "MOzTSmhrtL5D",
        "outputId": "fbaadf38-9c83-4f7d-ff2e-1311c14d4508"
      },
      "execution_count": null,
      "outputs": [
        {
          "output_type": "stream",
          "name": "stdout",
          "text": [
            "Grade: A\n"
          ]
        }
      ]
    },
    {
      "cell_type": "markdown",
      "source": [
        "The below code is find out whether the given number is positive, negative or zero."
      ],
      "metadata": {
        "id": "UMc0aG50uMgk"
      }
    },
    {
      "cell_type": "code",
      "source": [
        "number = 1\n",
        "\n",
        "# if-elif-else\n",
        "if number > 0:\n",
        "   print(\"Positive number\")\n",
        "   print(\"Inside if block\")\n",
        "\n",
        "elif number < 0:\n",
        "    print(\"-ve number\")\n",
        "    print(\"Inside if else\")\n",
        "\n",
        "else:\n",
        "    print(\"Zero\")\n",
        "    print(\"Inside else\")"
      ],
      "metadata": {
        "id": "h8mvDSlYstvB",
        "colab": {
          "base_uri": "https://localhost:8080/"
        },
        "outputId": "2177b616-f078-44c4-b8aa-a9d12fdedd0d"
      },
      "execution_count": null,
      "outputs": [
        {
          "output_type": "stream",
          "name": "stdout",
          "text": [
            "Positive number\n",
            "Inside if block\n"
          ]
        }
      ]
    },
    {
      "cell_type": "markdown",
      "source": [
        "The below code is to find out what traingle type it is given the length of all 3 sides of a traingle"
      ],
      "metadata": {
        "id": "suLhajEguUTt"
      }
    },
    {
      "cell_type": "code",
      "source": [
        "# Triangle type example based on sides\n",
        "side1 = 10\n",
        "side2 = 10\n",
        "side3 = 10\n",
        "\n",
        "# Check triangle type\n",
        "if side1 == side2 == side3:\n",
        "    print(\"Equilateral Triangle: All sides are equal.\")\n",
        "elif side1 == side2 or side1 == side3 or side2 == side3:\n",
        "    print(\"Isosceles Triangle: Two sides are equal.\")\n",
        "else:\n",
        "    print(\"Scalene Triangle: No sides are equal.\")\n"
      ],
      "metadata": {
        "id": "_6QBFi7HubSX"
      },
      "execution_count": null,
      "outputs": []
    },
    {
      "cell_type": "markdown",
      "source": [
        "The below code takes 3 values and checks whether they form a Pythagorean Triplet or not."
      ],
      "metadata": {
        "id": "jb8PkizNvO9h"
      }
    },
    {
      "cell_type": "code",
      "source": [
        "# Pythagorean triplet example\n",
        "a = 3\n",
        "b = 4\n",
        "c = 5\n",
        "\n",
        "# Check if it forms a Pythagorean triplet\n",
        "if a**2 + b**2 == c**2 or a**2 + c**2 == b**2 or b**2 + c**2 == a**2:\n",
        "    print(\"The numbers form a Pythagorean triplet.\")\n",
        "else:\n",
        "    print(\"The numbers do not form a Pythagorean triplet.\")\n"
      ],
      "metadata": {
        "colab": {
          "base_uri": "https://localhost:8080/"
        },
        "id": "_IlCkuF8vV7J",
        "outputId": "2f688088-11cd-4229-f1d1-692ad5041185"
      },
      "execution_count": null,
      "outputs": [
        {
          "output_type": "stream",
          "name": "stdout",
          "text": [
            "The numbers form a Pythagorean triplet.\n"
          ]
        }
      ]
    },
    {
      "cell_type": "markdown",
      "source": [
        "A simple calculator which takes input from the user to perform the desired calculation. You might not know `input()`  function and wonder how it works don't worry that will be covered in the coming slides. For now consider it as blackbox which allows you to take input from the user.\n",
        "\n",
        "The below python program based on the choice you have provided performs either of the following operations.\n",
        "1. Addition\n",
        "2. Subtraction\n",
        "3. Multiplication\n",
        "4. Division"
      ],
      "metadata": {
        "id": "0gFdolhJv3_y"
      }
    },
    {
      "cell_type": "code",
      "source": [
        "# This is a simple calculator using if-else statements and input() function.\n",
        "\n",
        "print(\"Select operation.\")\n",
        "print(\"1.Add\")\n",
        "print(\"2.Subtract\")\n",
        "print(\"3.Multiply\")\n",
        "print(\"4.Divide\")\n",
        "\n",
        "# take input from the user\n",
        "choice = input(\"Enter choice(1/2/3/4): \")\n",
        "\n",
        "# check if choice is one of the four options\n",
        "if choice in ('1', '2', '3', '4'):\n",
        "    num1 = float(input(\"Enter first number: \"))\n",
        "    num2 = float(input(\"Enter second number: \"))\n",
        "\n",
        "    if choice == '1':\n",
        "        print(num1, \"+\", num2, \"=\", num1 + num2)\n",
        "\n",
        "    elif choice == '2':\n",
        "        print(num1, \"-\", num2, \"=\", num1 - num2)\n",
        "\n",
        "    elif choice == '3':\n",
        "        print(num1, \"*\", num2, \"=\", num1 * num2)\n",
        "\n",
        "    elif choice == '4':\n",
        "        print(num1, \"/\", num2, \"=\", num1 / num2)\n"
      ],
      "metadata": {
        "colab": {
          "base_uri": "https://localhost:8080/"
        },
        "id": "rv5c5F1DwMFz",
        "outputId": "55680dae-f8ab-4b7a-a4bd-0a3e90ca15b7"
      },
      "execution_count": null,
      "outputs": [
        {
          "output_type": "stream",
          "name": "stdout",
          "text": [
            "Select operation.\n",
            "1.Add\n",
            "2.Subtract\n",
            "3.Multiply\n",
            "4.Divide\n",
            "Enter choice(1/2/3/4): 2\n",
            "Enter first number: 10\n",
            "Enter second number: 20\n",
            "10.0 - 20.0 = -10.0\n"
          ]
        }
      ]
    },
    {
      "cell_type": "code",
      "source": [
        "# nested if-else\n",
        "\n",
        "a = 9\n",
        "\n",
        "if a % 2 == 0:\n",
        "    if a % 5 == 0:\n",
        "        print(\"It is even and also divisible by 5\")\n",
        "    elif a % 6 == 0:\n",
        "        print(\"it is even and also divisible by 6\")\n",
        "    else:\n",
        "        print(\"it is an even number, not divisible by 5 and 6\")\n",
        "else:\n",
        "    if a % 3 == 0:\n",
        "        print(\"it is odd and also divisible by 3\")\n",
        "    else:\n",
        "        print(\"It is odd but not divisible by 3\")"
      ],
      "metadata": {
        "colab": {
          "base_uri": "https://localhost:8080/"
        },
        "id": "F6ZnIvlas_Rx",
        "outputId": "80a56210-7575-4e81-d8f6-8046f7512db7"
      },
      "execution_count": null,
      "outputs": [
        {
          "output_type": "stream",
          "name": "stdout",
          "text": [
            "it is odd and also divisible by 3\n"
          ]
        }
      ]
    },
    {
      "cell_type": "markdown",
      "source": [
        "# Loops"
      ],
      "metadata": {
        "id": "u4h06LksgdpY"
      }
    },
    {
      "cell_type": "code",
      "source": [
        "for i in range(10): # for (int i=0; i<10; i++)\n",
        "    print(\"Hello world\")\n",
        "    print(i)"
      ],
      "metadata": {
        "id": "Q3o3HrQ_gkdz",
        "colab": {
          "base_uri": "https://localhost:8080/"
        },
        "outputId": "ae6d9128-eeed-4958-c363-fc429fb7a3fc"
      },
      "execution_count": null,
      "outputs": [
        {
          "output_type": "stream",
          "name": "stdout",
          "text": [
            "Hello world\n",
            "0\n",
            "Hello world\n",
            "1\n",
            "Hello world\n",
            "2\n",
            "Hello world\n",
            "3\n",
            "Hello world\n",
            "4\n",
            "Hello world\n",
            "5\n",
            "Hello world\n",
            "6\n",
            "Hello world\n",
            "7\n",
            "Hello world\n",
            "8\n",
            "Hello world\n",
            "9\n"
          ]
        }
      ]
    },
    {
      "cell_type": "code",
      "source": [
        "for i in range(10, 20): # for (i=10; i<20; i++)\n",
        "    print(i)\n",
        "\n",
        "\n",
        "print(\"\")\n",
        "for i in range(0, 20, 3): # for (i=1; i<20; i = i+2)\n",
        "    print(i)"
      ],
      "metadata": {
        "colab": {
          "base_uri": "https://localhost:8080/"
        },
        "id": "BgwE_zrXgvAI",
        "outputId": "4524402b-03aa-4783-d226-f96c88a82ffa"
      },
      "execution_count": null,
      "outputs": [
        {
          "output_type": "stream",
          "name": "stdout",
          "text": [
            "10\n",
            "11\n",
            "12\n",
            "13\n",
            "14\n",
            "15\n",
            "16\n",
            "17\n",
            "18\n",
            "19\n",
            "0\n",
            "3\n",
            "6\n",
            "9\n",
            "12\n",
            "15\n",
            "18\n"
          ]
        }
      ]
    },
    {
      "cell_type": "code",
      "source": [
        "# while loop\n",
        "\n",
        "i = 0\n",
        "while i < 10:\n",
        "    print(i)\n",
        "    i += 1"
      ],
      "metadata": {
        "colab": {
          "base_uri": "https://localhost:8080/"
        },
        "id": "gSrIH_eCgxhk",
        "outputId": "7f35e335-e33a-4e2f-813f-32f0ea863f77"
      },
      "execution_count": null,
      "outputs": [
        {
          "output_type": "stream",
          "name": "stdout",
          "text": [
            "0\n",
            "1\n",
            "2\n",
            "3\n",
            "4\n",
            "5\n",
            "6\n",
            "7\n",
            "8\n",
            "9\n"
          ]
        }
      ]
    },
    {
      "cell_type": "markdown",
      "source": [
        "Program to Check Whether a Number is Prime or not"
      ],
      "metadata": {
        "id": "YuHBOsauiKKP"
      }
    },
    {
      "cell_type": "code",
      "source": [
        "# program tells whether the given number is a prime number or not.\n",
        "\n",
        "\n",
        "# Take user input\n",
        "user_input = int(input(\"Enter a number: \"))\n",
        "flag = True\n",
        "\n",
        "if user_input <= 1:\n",
        "    flag = False\n",
        "elif user_input == 2:\n",
        "    flag = True\n",
        "elif user_input % 2 == 0:\n",
        "    flag = False\n",
        "else:\n",
        "    # Check for factors from 3 to the square root of the number\n",
        "    for i in range(3, int(user_input**0.5) + 1, 2):\n",
        "      if user_input % i == 0:\n",
        "        flag = False\n",
        "        break\n",
        "\n",
        "if flag:\n",
        "    print(f\"{user_input} is a prime number.\")\n",
        "else:\n",
        "    print(f\"{user_input} is not a prime number.\")\n"
      ],
      "metadata": {
        "colab": {
          "base_uri": "https://localhost:8080/"
        },
        "id": "UxCglKLDg_Mc",
        "outputId": "9d90589a-5c74-4a78-a78e-a43bf6fb2721"
      },
      "execution_count": null,
      "outputs": [
        {
          "output_type": "stream",
          "name": "stdout",
          "text": [
            "Enter a number: 11\n",
            "3\n",
            "11 is a prime number.\n"
          ]
        }
      ]
    },
    {
      "cell_type": "markdown",
      "source": [
        "A Python program which finds whether a given number is Armstrong number.\n",
        "\n",
        "An Armstrong number (also known as a narcissistic number, pluperfect digital invariant, or pluperfect number) is a number that is the sum of its own digits each raised to the power of the number of digits.\n",
        "Ex: 153 -> 1^3 + 5^3 + 3^3 = 1 + 125 + 27 = 153.\n",
        "\n",
        "Sharing 2 different solutions to solve the same problem."
      ],
      "metadata": {
        "id": "VOXB6OFQiqXM"
      }
    },
    {
      "cell_type": "code",
      "source": [
        "# Solution 1: Python program to check if the number is an Armstrong number or not\n",
        "\n",
        "# take input from the user\n",
        "num_str = input(\"Enter a number: \")\n",
        "num = int(num_str)\n",
        "n = len(num_str)\n",
        "# initialize sum\n",
        "sum = 0\n",
        "\n",
        "# find the sum of the cube of each digit\n",
        "temp = num\n",
        "while temp > 0:\n",
        "   digit = temp % 10\n",
        "   sum += digit ** n\n",
        "   temp //= 10\n",
        "\n",
        "# display the result\n",
        "if num == sum:\n",
        "   print(num,\"is an Armstrong number\")\n",
        "else:\n",
        "   print(num,\"is not an Armstrong number\")\n",
        "\n",
        "print(\"dfsfd\", end=\" end \")\n",
        "\n",
        "\n"
      ],
      "metadata": {
        "colab": {
          "base_uri": "https://localhost:8080/"
        },
        "id": "VyiWWGKjh_qp",
        "outputId": "3e8b181d-4231-4adc-8916-f64a743c2262"
      },
      "execution_count": null,
      "outputs": [
        {
          "output_type": "stream",
          "name": "stdout",
          "text": [
            "Enter a number: 25\n",
            "25 is not an Armstrong number\n",
            "dfsfd end "
          ]
        }
      ]
    },
    {
      "cell_type": "markdown",
      "source": [
        "Python program to find numbers that are divisible by 7 but not by 5 in the range from 2000 to 3500"
      ],
      "metadata": {
        "id": "In87uz3QoaSW"
      }
    },
    {
      "cell_type": "code",
      "source": [
        "# Initialize an empty list to store the result\n",
        "result_numbers = []\n",
        "\n",
        "# Loop through the range 2000 to 3500 (inclusive)\n",
        "for num in range(2000, 3501):\n",
        "    # Check if the number is divisible by 7 and not divisible by 5\n",
        "    if num % 7 == 0 and num % 5 != 0:\n",
        "        # Add the number to the result list\n",
        "        result_numbers.append(num)\n",
        "\n",
        "# Display the result\n",
        "print(\"Numbers divisible by 7 but not by 5 in the range 2000 to 3500:\")\n",
        "print(result_numbers)\n"
      ],
      "metadata": {
        "colab": {
          "base_uri": "https://localhost:8080/"
        },
        "id": "-0jzGhDEj8cr",
        "outputId": "1fb970bb-2c9d-472b-fc67-7a3ef3ab8f3c"
      },
      "execution_count": null,
      "outputs": [
        {
          "output_type": "stream",
          "name": "stdout",
          "text": [
            "Numbers divisible by 7 but not by 5 in the range 2000 to 3500:\n",
            "[2002, 2009, 2016, 2023, 2037, 2044, 2051, 2058, 2072, 2079, 2086, 2093, 2107, 2114, 2121, 2128, 2142, 2149, 2156, 2163, 2177, 2184, 2191, 2198, 2212, 2219, 2226, 2233, 2247, 2254, 2261, 2268, 2282, 2289, 2296, 2303, 2317, 2324, 2331, 2338, 2352, 2359, 2366, 2373, 2387, 2394, 2401, 2408, 2422, 2429, 2436, 2443, 2457, 2464, 2471, 2478, 2492, 2499, 2506, 2513, 2527, 2534, 2541, 2548, 2562, 2569, 2576, 2583, 2597, 2604, 2611, 2618, 2632, 2639, 2646, 2653, 2667, 2674, 2681, 2688, 2702, 2709, 2716, 2723, 2737, 2744, 2751, 2758, 2772, 2779, 2786, 2793, 2807, 2814, 2821, 2828, 2842, 2849, 2856, 2863, 2877, 2884, 2891, 2898, 2912, 2919, 2926, 2933, 2947, 2954, 2961, 2968, 2982, 2989, 2996, 3003, 3017, 3024, 3031, 3038, 3052, 3059, 3066, 3073, 3087, 3094, 3101, 3108, 3122, 3129, 3136, 3143, 3157, 3164, 3171, 3178, 3192, 3199, 3206, 3213, 3227, 3234, 3241, 3248, 3262, 3269, 3276, 3283, 3297, 3304, 3311, 3318, 3332, 3339, 3346, 3353, 3367, 3374, 3381, 3388, 3402, 3409, 3416, 3423, 3437, 3444, 3451, 3458, 3472, 3479, 3486, 3493]\n"
          ]
        }
      ]
    },
    {
      "cell_type": "markdown",
      "source": [
        "This Python program takes a number as input andr returns true if the sum of its digits has the same parity as the entire number. (Here same parity is whether they are even or odd). Else would return false."
      ],
      "metadata": {
        "id": "-LKLo3DuAboc"
      }
    },
    {
      "cell_type": "code",
      "source": [
        "# \"Create a function that takes a number as input and returns True if the sum of its digits has the same parity as the entire number. Otherwise, return False.\n",
        "# parity_analysis(243) ➞ True  # 243 is odd and so is 9 (2 + 4 + 3)\n",
        "# parity_analysis(12) ➞ False  # 12 is even but 3 is odd (1 + 2)\"\n",
        "\n",
        "number = int(input(\"Enter number: \"))\n",
        "number_str = str(abs(number))\n",
        "digit_sum = 0\n",
        "\n",
        "for digit in number_str:\n",
        "  digit_sum += int(digit)\n",
        "\n",
        "    # Check if the sum has the same parity as the entire number\n",
        "print(number % 2 == digit_sum % 2)"
      ],
      "metadata": {
        "colab": {
          "base_uri": "https://localhost:8080/"
        },
        "id": "vqNl-kg31AN0",
        "outputId": "45449262-c0a2-4712-cd82-e73e9fe61152"
      },
      "execution_count": null,
      "outputs": [
        {
          "output_type": "stream",
          "name": "stdout",
          "text": [
            "Enter number: 12\n",
            "False\n"
          ]
        }
      ]
    },
    {
      "cell_type": "markdown",
      "source": [
        "The below python program helps you to calculate factorial of a given number.\n",
        "\n",
        "Factorial - Calculating the factorial of a number involves multiplying all positive integers up to that number.\n",
        "Here's a simple Python program to calculate the factorial of a given number."
      ],
      "metadata": {
        "id": "T-SA-NzsAroO"
      }
    },
    {
      "cell_type": "code",
      "source": [],
      "metadata": {
        "id": "IyEkdbBdI45p"
      },
      "execution_count": null,
      "outputs": []
    },
    {
      "cell_type": "code",
      "source": [
        "def hello(name:str = \"abc\") -> str:\n",
        "  return \"Hello, \" + name + \"!\"\n",
        "print(hello(input(\"What is your Name \")));\n",
        "print(hello())"
      ],
      "metadata": {
        "colab": {
          "base_uri": "https://localhost:8080/"
        },
        "id": "dQduBOEoGwcX",
        "outputId": "47ad1242-1657-403d-fd7b-5e936d8a8cee"
      },
      "execution_count": null,
      "outputs": [
        {
          "output_type": "stream",
          "name": "stdout",
          "text": [
            "What is your Name kj\n",
            "Hello, kj!\n",
            "Hello, abc!\n"
          ]
        }
      ]
    },
    {
      "cell_type": "code",
      "source": [
        "\n",
        "# Factorial of the given number.\n",
        "number = int(input(\"Enter a number: \"))\n",
        "result = 1\n",
        "for i in range(2, number + 1):\n",
        "    result *= i\n",
        "\n",
        "print(f\"The factorial of {number} is {result}\")\n"
      ],
      "metadata": {
        "colab": {
          "base_uri": "https://localhost:8080/"
        },
        "id": "ZIJzXavjAw1S",
        "outputId": "99930d97-a071-4050-8f15-bcf56f74f8aa"
      },
      "execution_count": null,
      "outputs": [
        {
          "output_type": "stream",
          "name": "stdout",
          "text": [
            "Enter a number: 1\n",
            "The factorial of 1 is 1\n"
          ]
        }
      ]
    },
    {
      "cell_type": "markdown",
      "source": [
        "# Python Functions / Methods\n",
        "\n",
        "Here are various examples on how we can use functions / Methods in Python."
      ],
      "metadata": {
        "id": "USgzh1u-7IAn"
      }
    },
    {
      "cell_type": "markdown",
      "source": [
        "## Basic Function"
      ],
      "metadata": {
        "id": "kDAlyoSp8Yvj"
      }
    },
    {
      "cell_type": "code",
      "source": [
        "def greet():\n",
        "  print(\"Hello, World!\")\n",
        "\n",
        "\n",
        "greet() # calling a function.\n"
      ],
      "metadata": {
        "colab": {
          "base_uri": "https://localhost:8080/"
        },
        "id": "-jMBD7Yz7rG-",
        "outputId": "4f46baf9-24e4-4e20-b8ab-b8993bb6ca29"
      },
      "execution_count": null,
      "outputs": [
        {
          "output_type": "stream",
          "name": "stdout",
          "text": [
            "Hello, World!\n"
          ]
        }
      ]
    },
    {
      "cell_type": "markdown",
      "source": [
        "## Function With Parameters"
      ],
      "metadata": {
        "id": "nOLoTMAA8ezn"
      }
    },
    {
      "cell_type": "code",
      "source": [
        "def add_numbers(a, b): # parameters\n",
        "  return a + b\n",
        "\n",
        "result = add_numbers(5, 3) # arguments\n",
        "print(result)\n",
        "print(add_numbers(\"Hello\", \"World\"))\n"
      ],
      "metadata": {
        "colab": {
          "base_uri": "https://localhost:8080/"
        },
        "id": "d-BL4EnL8h_I",
        "outputId": "152059f3-2873-4204-d4f4-cd1eaa2086e3"
      },
      "execution_count": null,
      "outputs": [
        {
          "output_type": "stream",
          "name": "stdout",
          "text": [
            "8\n",
            "HelloWorld\n"
          ]
        }
      ]
    },
    {
      "cell_type": "markdown",
      "source": [
        "## Default Parameter Values"
      ],
      "metadata": {
        "id": "UWHEkJ-_8wzl"
      }
    },
    {
      "cell_type": "code",
      "source": [
        "def greet(name=\"Guest\"):\n",
        "  print(f\"Hello, {name}\")\n",
        "\n",
        "greet()\n",
        "greet(\"Alice\")"
      ],
      "metadata": {
        "colab": {
          "base_uri": "https://localhost:8080/"
        },
        "id": "W03YYFyO86jV",
        "outputId": "521dd89d-e92e-44dc-ceb8-0947f605413d"
      },
      "execution_count": null,
      "outputs": [
        {
          "output_type": "stream",
          "name": "stdout",
          "text": [
            "Hello, Guest\n",
            "Hello, Alice\n"
          ]
        }
      ]
    },
    {
      "cell_type": "markdown",
      "source": [
        "##Return Multiple Values"
      ],
      "metadata": {
        "id": "oWmfeA8h9Egh"
      }
    },
    {
      "cell_type": "code",
      "source": [
        "def get_square_and_cube(x)->int:\n",
        "  return \"Alice\", x ** 2, x ** 3\n",
        "\n",
        "name, square, cube = get_square_and_cube(3)\n",
        "print(\"Square:\", square)\n",
        "print(\"Cube:\", cube)\n",
        "print(\"Name:\", name)"
      ],
      "metadata": {
        "colab": {
          "base_uri": "https://localhost:8080/"
        },
        "id": "4-Am-QoI9HCV",
        "outputId": "011396aa-c1b8-4d45-ac78-4e153d46219c"
      },
      "execution_count": null,
      "outputs": [
        {
          "output_type": "stream",
          "name": "stdout",
          "text": [
            "Square: 9\n",
            "Cube: 27\n",
            "Name: Alice\n"
          ]
        }
      ]
    },
    {
      "cell_type": "markdown",
      "source": [
        "## Variable Number of Arguments\n",
        "Handling variable number of arguments using `*args`"
      ],
      "metadata": {
        "id": "IouZEmXn9GVT"
      }
    },
    {
      "cell_type": "code",
      "source": [
        "def add_all(*args):\n",
        "  print(type(args))\n",
        "  result = 0\n",
        "  for num in args:\n",
        "    result += num\n",
        "  return result\n",
        "\n",
        "result = add_all(1, 2, 3, 4, 5)\n",
        "print(result)\n",
        "\n",
        "result = add_all(1, 2, 3)\n",
        "print(result)"
      ],
      "metadata": {
        "colab": {
          "base_uri": "https://localhost:8080/"
        },
        "id": "fRnOXUTX9hUe",
        "outputId": "7557802e-23ea-419f-b4e5-150ec591f5aa"
      },
      "execution_count": null,
      "outputs": [
        {
          "output_type": "stream",
          "name": "stdout",
          "text": [
            "<class 'tuple'>\n",
            "15\n",
            "<class 'tuple'>\n",
            "6\n"
          ]
        }
      ]
    },
    {
      "cell_type": "markdown",
      "source": [
        "## Keyword Arguments"
      ],
      "metadata": {
        "id": "iX87JWlM9gy0"
      }
    },
    {
      "cell_type": "code",
      "source": [
        "def display_info(name, age):\n",
        "  print(f\"Name: {name}, Age: {age}\")\n",
        "\n",
        "display_info(age=25, name=\"Alice\")"
      ],
      "metadata": {
        "colab": {
          "base_uri": "https://localhost:8080/"
        },
        "id": "2kl7uLOb9zVP",
        "outputId": "82e1c33e-5483-494d-b2cc-1fe9546b560b"
      },
      "execution_count": null,
      "outputs": [
        {
          "output_type": "stream",
          "name": "stdout",
          "text": [
            "Name: Alice, Age: 25\n"
          ]
        }
      ]
    },
    {
      "cell_type": "markdown",
      "source": [
        "# Scope of Variables"
      ],
      "metadata": {
        "id": "k0rIaEYDbMYt"
      }
    },
    {
      "cell_type": "markdown",
      "source": [
        "## Local Scope"
      ],
      "metadata": {
        "id": "BGwGEjOgbMY0"
      }
    },
    {
      "cell_type": "code",
      "source": [
        "def my_function():\n",
        "    # Variable 'x' is defined within the function\n",
        "    x = 10\n",
        "    print(\"Inside my_function:\", x)\n",
        "\n",
        "# Call the function\n",
        "my_function()\n",
        "\n",
        "# Attempting to access 'x' outside the function will result in a NameError\n",
        "# print(\"Outside my_function:\", x)\n"
      ],
      "metadata": {
        "id": "5DZRT35mbMY1"
      },
      "execution_count": null,
      "outputs": []
    },
    {
      "cell_type": "markdown",
      "source": [
        "## Enclosing (Nonlocal) Scope"
      ],
      "metadata": {
        "id": "nTImWkHLbMY1"
      }
    },
    {
      "cell_type": "code",
      "source": [
        "def outer_function():\n",
        "    x = 10  # Variable in the enclosing scope\n",
        "\n",
        "    def inner_function():\n",
        "        nonlocal x  # Accessing variable 'x' from the enclosing scope\n",
        "        x += 5\n",
        "        print(\"Inside inner_function:\", x)\n",
        "\n",
        "    return inner_function()  # Call the inner function\n",
        "\n",
        "    print(\"Outside inner_function:\", x)  # 'x' modified in the inner function\n",
        "\n",
        "# Call the outer function\n",
        "outer_function().inner_function()\n"
      ],
      "metadata": {
        "id": "hR5IbbQ1bMY1"
      },
      "execution_count": null,
      "outputs": []
    },
    {
      "cell_type": "markdown",
      "source": [
        "## Global Scope"
      ],
      "metadata": {
        "id": "V7C9UhTGbMY2"
      }
    },
    {
      "cell_type": "code",
      "source": [
        "# Variable 'x' is defined in the global scope\n",
        "x = 10\n",
        "\n",
        "def my_function():\n",
        "    print(\"Inside my_function:\", x)  # Accessing 'x' from the global scope\n",
        "\n",
        "# Call the function\n",
        "my_function()\n",
        "\n",
        "print(\"Outside my_function:\", x)  # 'x' accessible outside the function\n"
      ],
      "metadata": {
        "id": "dJ1fylaQbMY2"
      },
      "execution_count": null,
      "outputs": []
    },
    {
      "cell_type": "markdown",
      "source": [
        "## Modifying Global Variable Inside Function"
      ],
      "metadata": {
        "id": "jkag-bfBbMY2"
      }
    },
    {
      "cell_type": "code",
      "source": [
        "x = 10  # Define a global variable\n",
        "\n",
        "def modify_global():\n",
        "    global x  # Declare 'x' as global within the function\n",
        "    x += 5\n",
        "    print(\"Inside modify_global:\", x)\n",
        "\n",
        "# Call the function to modify the global variable\n",
        "modify_global()\n",
        "\n",
        "print(\"Outside modify_global:\", x)  # 'x' has been modified globally\n"
      ],
      "metadata": {
        "id": "TAg6UoO1bMY2"
      },
      "execution_count": null,
      "outputs": []
    },
    {
      "cell_type": "markdown",
      "source": [
        "# Python Lists\n",
        "Here are all the examples on how lists works in Python, with commonly used list methods."
      ],
      "metadata": {
        "id": "Mm8YCU1w_DFh"
      }
    },
    {
      "cell_type": "markdown",
      "source": [
        "## List Declaration and Initialization"
      ],
      "metadata": {
        "id": "H5zcfqVw_gwF"
      }
    },
    {
      "cell_type": "code",
      "source": [
        "# Empty list\n",
        "empty_list = []\n",
        "\n",
        "# List with elements\n",
        "numbers = [1, 2, 3, 4, 5]\n",
        "fruits = [\"apple\", \"banana\", \"cherry\"]\n",
        "\n",
        "# Mixed-type list\n",
        "mixed_list = [1, \"hello\", 3.14, True]\n",
        "\n",
        "# Nested list\n",
        "nested_list = [[1, 2, 3], [\"a\", \"b\", \"c\"]]\n",
        "\n",
        "print(empty_list)\n",
        "print(numbers)\n",
        "print(fruits)\n",
        "print(mixed_list)\n",
        "print(nested_list)"
      ],
      "metadata": {
        "colab": {
          "base_uri": "https://localhost:8080/"
        },
        "id": "B7Tjf6sq_27p",
        "outputId": "d9c73486-98ac-4942-cf06-1fd01c8e5955"
      },
      "execution_count": null,
      "outputs": [
        {
          "output_type": "stream",
          "name": "stdout",
          "text": [
            "[]\n",
            "[1, 2, 3, 4, 5]\n",
            "['apple', 'banana', 'cherry']\n",
            "[1, 'hello', 3.14, True]\n",
            "[[1, 2, 3], ['a', 'b', 'c']]\n"
          ]
        }
      ]
    },
    {
      "cell_type": "markdown",
      "source": [
        "## Accessing Elements"
      ],
      "metadata": {
        "id": "iIsqFZkoAE59"
      }
    },
    {
      "cell_type": "code",
      "source": [
        "numbers = [1, 2, 3, 4, 5]\n",
        "\n",
        "# Accessing elements by index\n",
        "print(numbers[0])  # Output: 1\n",
        "print(numbers[-1])  # Output: 5\n",
        "print(numbers[2])"
      ],
      "metadata": {
        "colab": {
          "base_uri": "https://localhost:8080/"
        },
        "id": "EOzh8XDLALHV",
        "outputId": "046f51de-d39a-4d5d-d39e-a89d7f17c645"
      },
      "execution_count": null,
      "outputs": [
        {
          "output_type": "stream",
          "name": "stdout",
          "text": [
            "1\n",
            "5\n",
            "3\n"
          ]
        }
      ]
    },
    {
      "cell_type": "markdown",
      "source": [
        "## Iterating over a list"
      ],
      "metadata": {
        "id": "i_e_BvhVAWz8"
      }
    },
    {
      "cell_type": "code",
      "source": [
        "my_list = [\"apple\", \"banana\", \"cherry\", \"kiwi\"]\n",
        "\n",
        "for element in my_list:\n",
        "  print(element)\n",
        "\n",
        "\n",
        "print(\"\\nFor loop via index based:\\n\")\n",
        "for i in range(len(my_list)):\n",
        "  print(my_list[i])"
      ],
      "metadata": {
        "colab": {
          "base_uri": "https://localhost:8080/"
        },
        "id": "WXL7ZlApAY_H",
        "outputId": "d69c6eb8-437e-49b7-e656-5ad0ab32b7f4"
      },
      "execution_count": null,
      "outputs": [
        {
          "output_type": "stream",
          "name": "stdout",
          "text": [
            "apple\n",
            "banana\n",
            "cherry\n",
            "kiwi\n",
            "\n",
            "For loop via index based:\n",
            "\n",
            "apple\n",
            "banana\n",
            "cherry\n",
            "kiwi\n"
          ]
        }
      ]
    },
    {
      "cell_type": "markdown",
      "source": [
        "## List Concatenation and Repetition"
      ],
      "metadata": {
        "id": "Le43A93-Ax1_"
      }
    },
    {
      "cell_type": "code",
      "source": [
        "list1 = [1, 2, 3]\n",
        "list2 = [4, 5, 6]\n",
        "\n",
        "# Concatenation\n",
        "combined_list = list1 + list2\n",
        "print(combined_list)\n",
        "\n",
        "repeated_list = list1 * 3\n",
        "print(repeated_list)"
      ],
      "metadata": {
        "colab": {
          "base_uri": "https://localhost:8080/"
        },
        "id": "p5wYknShA01C",
        "outputId": "3a23340e-9d12-4de0-aadf-eb8f90121ca2"
      },
      "execution_count": null,
      "outputs": [
        {
          "output_type": "stream",
          "name": "stdout",
          "text": [
            "[1, 2, 3, 4, 5, 6]\n",
            "[1, 2, 3, 1, 2, 3, 1, 2, 3]\n"
          ]
        }
      ]
    },
    {
      "cell_type": "markdown",
      "source": [
        "## List Comprehensions"
      ],
      "metadata": {
        "id": "6_kO40zdA-DX"
      }
    },
    {
      "cell_type": "code",
      "source": [
        "# Squares of numbers from 1 to 5\n",
        "squares = [x**2 for x in range(1, 6)]\n",
        "print(squares)  # Output: [1, 4, 9, 16, 25]"
      ],
      "metadata": {
        "colab": {
          "base_uri": "https://localhost:8080/"
        },
        "id": "_jb_cnnoBCzj",
        "outputId": "df861128-e87a-43d1-eb20-064316b3d550"
      },
      "execution_count": null,
      "outputs": [
        {
          "output_type": "stream",
          "name": "stdout",
          "text": [
            "[1, 4, 9, 16, 25]\n"
          ]
        }
      ]
    },
    {
      "cell_type": "markdown",
      "source": [],
      "metadata": {
        "id": "7bTjwVgxSXog"
      }
    },
    {
      "cell_type": "code",
      "source": [
        "items = [2,3, \"ddsfsd\"]\n",
        "ditem = items.copy()\n",
        "items[2] = 4\n",
        "print(ditem[2])"
      ],
      "metadata": {
        "colab": {
          "base_uri": "https://localhost:8080/"
        },
        "id": "o87ArxA1R7ry",
        "outputId": "4565b290-3d01-4810-c304-6670d50daea3"
      },
      "execution_count": null,
      "outputs": [
        {
          "output_type": "stream",
          "name": "stdout",
          "text": [
            "ddsfsd\n"
          ]
        }
      ]
    },
    {
      "cell_type": "code",
      "source": [
        "mystr = \"Hello\"\n",
        "print(mystr[-1])\n",
        "print(id(mystr[-1]))"
      ],
      "metadata": {
        "colab": {
          "base_uri": "https://localhost:8080/"
        },
        "id": "x8AlP6MqVlqQ",
        "outputId": "7ab25c06-3815-4933-bf9f-4f753fd23395"
      },
      "execution_count": null,
      "outputs": [
        {
          "output_type": "stream",
          "name": "stdout",
          "text": [
            "o\n",
            "136782285002992\n"
          ]
        }
      ]
    },
    {
      "cell_type": "markdown",
      "source": [
        "## List Slicing"
      ],
      "metadata": {
        "id": "Izt4G8GRBJ0W"
      }
    },
    {
      "cell_type": "code",
      "source": [
        "numbers = [1, 2, 3, 4, 5]\n",
        "\n",
        "# Slicing\n",
        "print(numbers[1:4])  # Output: [2, 3, 4]"
      ],
      "metadata": {
        "colab": {
          "base_uri": "https://localhost:8080/"
        },
        "id": "Cr0fdc4bBLZN",
        "outputId": "34e8ce61-b439-483d-db51-a4b803891d4e"
      },
      "execution_count": null,
      "outputs": [
        {
          "output_type": "stream",
          "name": "stdout",
          "text": [
            "[2, 3, 4]\n"
          ]
        }
      ]
    },
    {
      "cell_type": "markdown",
      "source": [
        "## Membership Testing"
      ],
      "metadata": {
        "id": "IVPXLc9yBQ4P"
      }
    },
    {
      "cell_type": "code",
      "source": [
        "numbers = [1, 2, 3, 4, 5]\n",
        "\n",
        "# Check if an element is in the list\n",
        "is_3_present = 3 in numbers # This gives a boolean value if present gives True else would give False\n",
        "print(is_3_present)  # Output: True\n",
        "\n",
        "is_7_present = 7 in numbers\n",
        "print(is_7_present)\n"
      ],
      "metadata": {
        "colab": {
          "base_uri": "https://localhost:8080/"
        },
        "id": "pDK7uGR-BXMz",
        "outputId": "c6420f35-9dcd-4f9a-8e21-14ca7a85c7ee"
      },
      "execution_count": null,
      "outputs": [
        {
          "output_type": "stream",
          "name": "stdout",
          "text": [
            "True\n",
            "False\n"
          ]
        }
      ]
    },
    {
      "cell_type": "markdown",
      "source": [
        "## List Methods"
      ],
      "metadata": {
        "id": "K_71wqGsBnVp"
      }
    },
    {
      "cell_type": "code",
      "source": [
        "# Append\n",
        "numbers = [1, 2, 3]\n",
        "numbers.append(4)\n",
        "print(numbers)  # Output: [1, 2, 3, 4]\n",
        "\n",
        "\n",
        "\n",
        "# Extend\n",
        "numbers.extend([5, 6])\n",
        "print(numbers)  # Output: [1, 2, 3, 4, 5, 6]\n",
        "\n",
        "\n",
        "\n",
        "# Insert\n",
        "numbers.insert(2, 99)\n",
        "print(numbers)  # Output: [1, 2, 99, 3, 4, 5, 6]\n",
        "\n",
        "\n",
        "\n",
        "# Remove\n",
        "numbers.remove(3)\n",
        "print(numbers)  # Output: [1, 2, 99, 4, 5, 6]\n",
        "\n",
        "\n",
        "\n",
        "# Pop\n",
        "popped = numbers.pop()\n",
        "print(popped)   # Output: 6\n",
        "print(numbers)  # Output: [1, 2, 99, 4, 5]\n",
        "\n",
        "\n",
        "\n",
        "# Index\n",
        "index = numbers.index(99)\n",
        "print(index)    # Output: 2\n",
        "\n",
        "\n",
        "\n",
        "# Count\n",
        "count = numbers.count(4)\n",
        "print(count)    # Output: 1\n",
        "\n",
        "\n",
        "\n",
        "# Sort\n",
        "numbers.sort()\n",
        "print(numbers)  # Output: [1, 2, 4, 5, 99]\n",
        "\n",
        "\n",
        "\n",
        "# Reverse\n",
        "numbers.reverse()\n",
        "print(numbers)  # Output: [99, 5, 4, 2, 1]\n",
        "\n",
        "\n",
        "\n",
        "# Copy\n",
        "numbers_copy = numbers.copy()\n"
      ],
      "metadata": {
        "colab": {
          "base_uri": "https://localhost:8080/"
        },
        "id": "ABx3AQnhBrCU",
        "outputId": "82f0f097-95b7-4a7a-de67-cb83af3e1096"
      },
      "execution_count": null,
      "outputs": [
        {
          "output_type": "stream",
          "name": "stdout",
          "text": [
            "[1, 2, 3, 4]\n",
            "[1, 2, 3, 4, 5, 6]\n",
            "[1, 2, 99, 3, 4, 5, 6]\n",
            "[1, 2, 99, 4, 5, 6]\n",
            "6\n",
            "[1, 2, 99, 4, 5]\n",
            "2\n",
            "1\n",
            "[1, 2, 4, 5, 99]\n",
            "[99, 5, 4, 2, 1]\n"
          ]
        }
      ]
    },
    {
      "cell_type": "markdown",
      "source": [
        "## Coding Questions"
      ],
      "metadata": {
        "id": "JScPqPvOCR8T"
      }
    },
    {
      "cell_type": "markdown",
      "source": [
        "### Filter Even Numbers\n",
        "Write a function that takes a list and returns a new list containing only the even numbers from the original list"
      ],
      "metadata": {
        "id": "5Rqv87X4CWHu"
      }
    },
    {
      "cell_type": "code",
      "source": [
        "def filter_even_numbers(numbers):\n",
        "  even_numbers = []\n",
        "  for number in numbers:\n",
        "    if number % 2 == 0:\n",
        "      even_numbers.append(number)\n",
        "  return even_numbers\n",
        "\n",
        "# Example usage:\n",
        "original_list = [1, 2, 3, 4, 5, 6, 7, 8, 9, 10]\n",
        "result_list = filter_even_numbers(original_list)\n",
        "print(result_list)  # Expected output: [2, 4, 6, 8, 10]\n"
      ],
      "metadata": {
        "colab": {
          "base_uri": "https://localhost:8080/"
        },
        "id": "jiQTyD0mCgks",
        "outputId": "940dace9-1bab-4773-c809-12a5782223f0"
      },
      "execution_count": null,
      "outputs": [
        {
          "output_type": "stream",
          "name": "stdout",
          "text": [
            "[2, 4, 6, 8, 10]\n"
          ]
        }
      ]
    },
    {
      "cell_type": "markdown",
      "source": [
        "### Greet People differently\n",
        "Write a function that takes two parameters - a list of names and a default greeting message. The function should print a personalized greeting for each name using the provided or default greeting."
      ],
      "metadata": {
        "id": "FnTX5InzC2ZM"
      }
    },
    {
      "cell_type": "code",
      "source": [
        "def greet_people(names, greeting=\"Hello\"):\n",
        "  for name in names:\n",
        "    print(f\"{greeting}, {name}\")\n",
        "\n",
        "# Example usage:\n",
        "name_list = [\"Alice\", \"Bob\", \"Charlie\"]\n",
        "greet_people(name_list)  # Should print default greetings\n",
        "greet_people(name_list, \"Hi\")  # Should print personalized greetings with \"Hi\"\n"
      ],
      "metadata": {
        "colab": {
          "base_uri": "https://localhost:8080/"
        },
        "id": "ysVlbiBKDM0g",
        "outputId": "2196c4c5-d6f2-4d2c-e76a-24c91713ebe2"
      },
      "execution_count": null,
      "outputs": [
        {
          "output_type": "stream",
          "name": "stdout",
          "text": [
            "Hello, Alice\n",
            "Hello, Bob\n",
            "Hello, Charlie\n",
            "Hi, Alice\n",
            "Hi, Bob\n",
            "Hi, Charlie\n"
          ]
        }
      ]
    },
    {
      "cell_type": "markdown",
      "source": [
        "### Average of given numbers\n",
        "Write a function called average that takes a variable number of arguments and returns the average of those arguments.\n",
        "\n"
      ],
      "metadata": {
        "id": "nqLW9jCuDae-"
      }
    },
    {
      "cell_type": "code",
      "source": [
        "def average(*args):\n",
        "  sum = 0\n",
        "  for arg in args:\n",
        "    sum += arg\n",
        "  return sum / len(args)\n",
        "\n",
        "# Example usage:\n",
        "result = average(1, 2, 3, 4, 5)\n",
        "print(result)  # Expected output: 3.0\n"
      ],
      "metadata": {
        "colab": {
          "base_uri": "https://localhost:8080/"
        },
        "id": "RycKOyINDjWB",
        "outputId": "4d483b5e-b7bc-4f9f-d9b0-c5ca4e7e02c7"
      },
      "execution_count": null,
      "outputs": [
        {
          "output_type": "stream",
          "name": "stdout",
          "text": [
            "3.0\n"
          ]
        }
      ]
    },
    {
      "cell_type": "markdown",
      "source": [
        "### Find Duplicates\n",
        "Write a program to find whether the list has duplicates or not."
      ],
      "metadata": {
        "id": "YwkR8C0FFUng"
      }
    },
    {
      "cell_type": "code",
      "source": [
        "def find_dup(my_list):\n",
        "  for item in my_list:\n",
        "    if my_list.count(item) > 1:\n",
        "      return True\n",
        "  return False\n",
        "\n",
        "my_list = [1,2,3,4,9,10,15]\n",
        "print(find_dup(my_list))"
      ],
      "metadata": {
        "colab": {
          "base_uri": "https://localhost:8080/"
        },
        "id": "8vmuAiK1FfKe",
        "outputId": "3073c096-233c-4ca8-ebcf-ee6d1083e578"
      },
      "execution_count": null,
      "outputs": [
        {
          "output_type": "stream",
          "name": "stdout",
          "text": [
            "False\n"
          ]
        }
      ]
    },
    {
      "cell_type": "markdown",
      "source": [
        "# Python Strings\n",
        "Here are the examples on how Strings are in Python and commonly used string methods."
      ],
      "metadata": {
        "id": "M-0fKwcPEHhh"
      }
    },
    {
      "cell_type": "markdown",
      "source": [
        "## String Declaration and Concatenation"
      ],
      "metadata": {
        "id": "BjXRbFPWGhz9"
      }
    },
    {
      "cell_type": "code",
      "source": [
        "# String Declaration\n",
        "string1 = \"Hello\"\n",
        "string2 = 'World'\n",
        "\n",
        "# String Concatenation\n",
        "result = string1 + \" \" + string2\n",
        "print(result)  # Output: Hello World\n"
      ],
      "metadata": {
        "colab": {
          "base_uri": "https://localhost:8080/"
        },
        "id": "4vu75DKNG0Ch",
        "outputId": "e0f1914e-4425-4f7f-913b-7de82c14c6f5"
      },
      "execution_count": null,
      "outputs": [
        {
          "output_type": "stream",
          "name": "stdout",
          "text": [
            "Hello World\n"
          ]
        }
      ]
    },
    {
      "cell_type": "markdown",
      "source": [
        "##  String Indexing and Slicing"
      ],
      "metadata": {
        "id": "P1SO3r85G3s5"
      }
    },
    {
      "cell_type": "code",
      "source": [
        "my_string = \"Python\"\n",
        "\n",
        "# Indexing\n",
        "first_char = my_string[0]\n",
        "last_char = my_string[-1]\n",
        "\n",
        "# Slicing\n",
        "substring = my_string[1:4]  # Gets characters from index 1 to 3\n",
        "print(\"first char:\", first_char)\n",
        "print(\"last char:\", last_char)\n",
        "print(\"substring:\", substring)  # Output: P n yth\n"
      ],
      "metadata": {
        "colab": {
          "base_uri": "https://localhost:8080/"
        },
        "id": "SYGMGuqrG88k",
        "outputId": "f106d125-ab60-4caf-d2f3-b8770666e20e"
      },
      "execution_count": null,
      "outputs": [
        {
          "output_type": "stream",
          "name": "stdout",
          "text": [
            "first char: P\n",
            "last char: n\n",
            "substring: yth\n"
          ]
        }
      ]
    },
    {
      "cell_type": "markdown",
      "source": [
        "## String Length"
      ],
      "metadata": {
        "id": "FVjBIb8iHYn1"
      }
    },
    {
      "cell_type": "code",
      "source": [
        "my_string = \"Hello, World!\"\n",
        "\n",
        "length = len(my_string)\n",
        "print(length)  # Output: 13\n"
      ],
      "metadata": {
        "colab": {
          "base_uri": "https://localhost:8080/"
        },
        "id": "D0L98ZGdHbD-",
        "outputId": "ecacd361-a8c4-4a2a-c879-643f0b0caee7"
      },
      "execution_count": null,
      "outputs": [
        {
          "output_type": "stream",
          "name": "stdout",
          "text": [
            "13\n"
          ]
        }
      ]
    },
    {
      "cell_type": "markdown",
      "source": [
        "## String Methods"
      ],
      "metadata": {
        "id": "xk814KCGHc7C"
      }
    },
    {
      "cell_type": "code",
      "source": [
        "my_string = \"   Hello, World!   \"\n",
        "\n",
        "# Strip whitespace\n",
        "stripped_string = my_string.strip()\n",
        "\n",
        "# Convert to lowercase and uppercase\n",
        "lowercase = my_string.lower()\n",
        "uppercase = my_string.upper()\n",
        "\n",
        "# Replace\n",
        "new_string = my_string.replace(\"Hello\", \"Hi\")\n",
        "\n",
        "print(stripped_string)\n",
        "print(lowercase)\n",
        "print(uppercase)\n",
        "print(new_string)"
      ],
      "metadata": {
        "colab": {
          "base_uri": "https://localhost:8080/"
        },
        "id": "kXtQVYYTHh-y",
        "outputId": "a64f86f7-d176-4132-8f4f-0903f4437b7d"
      },
      "execution_count": null,
      "outputs": [
        {
          "output_type": "stream",
          "name": "stdout",
          "text": [
            "Hello, World!\n",
            "   hello, world!   \n",
            "   HELLO, WORLD!   \n",
            "   Hi, World!   \n"
          ]
        }
      ]
    },
    {
      "cell_type": "markdown",
      "source": [
        "### Count Substring occurrences"
      ],
      "metadata": {
        "id": "4QBorJfyH62M"
      }
    },
    {
      "cell_type": "code",
      "source": [
        "my_string = \"abracadabraarar\"\n",
        "substring = \"ra\"\n",
        "\n",
        "# Count occurrences of a substring\n",
        "count_occurrences = my_string.count(substring)\n",
        "\n",
        "print(count_occurrences)  # Output: 2\n"
      ],
      "metadata": {
        "colab": {
          "base_uri": "https://localhost:8080/"
        },
        "id": "JZJMXMT_H-NM",
        "outputId": "c42e66c1-e60e-4869-ebba-e0be5b58f133"
      },
      "execution_count": null,
      "outputs": [
        {
          "output_type": "stream",
          "name": "stdout",
          "text": [
            "3\n"
          ]
        }
      ]
    },
    {
      "cell_type": "markdown",
      "source": [
        "### Check Start and End"
      ],
      "metadata": {
        "id": "LjDIvI8CIAa-"
      }
    },
    {
      "cell_type": "code",
      "source": [
        "my_string = \"Hello, World!\"\n",
        "\n",
        "# Check if the string starts or ends with a specific substring\n",
        "starts_with_hello = my_string.startswith(\"Hello\")\n",
        "ends_with_world = my_string.endswith(\"World!\")\n",
        "\n",
        "print(starts_with_hello, ends_with_world)  # Output: True True"
      ],
      "metadata": {
        "colab": {
          "base_uri": "https://localhost:8080/"
        },
        "id": "VT9SU95VIJJ8",
        "outputId": "83233213-4dba-4e90-f634-82f18764b58b"
      },
      "execution_count": null,
      "outputs": [
        {
          "output_type": "stream",
          "name": "stdout",
          "text": [
            "True True\n"
          ]
        }
      ]
    },
    {
      "cell_type": "markdown",
      "source": [
        "### Check Character Types"
      ],
      "metadata": {
        "id": "r-FbK_5wIOq8"
      }
    },
    {
      "cell_type": "code",
      "source": [
        "my_string = \"abc123\"\n",
        "\n",
        "# Check if all characters are alphanumeric\n",
        "is_alphanumeric = my_string.isalnum()\n",
        "\n",
        "# Check if all characters are alphabetic\n",
        "is_alpha = my_string.isalpha()\n",
        "\n",
        "# Check if all characters are digits\n",
        "is_digit = my_string.isdigit()\n",
        "\n",
        "print(is_alphanumeric, is_alpha, is_digit)  # Output: True False False\n"
      ],
      "metadata": {
        "colab": {
          "base_uri": "https://localhost:8080/"
        },
        "id": "dZlf-KQZIhTS",
        "outputId": "9e4ff660-b5bc-466c-9fc1-e13e129cbb80"
      },
      "execution_count": null,
      "outputs": [
        {
          "output_type": "stream",
          "name": "stdout",
          "text": [
            "True False False\n"
          ]
        }
      ]
    },
    {
      "cell_type": "markdown",
      "source": [
        "### String Capitalization"
      ],
      "metadata": {
        "id": "c3DW0-gdIkL0"
      }
    },
    {
      "cell_type": "code",
      "source": [
        "my_string = \"hello world\"\n",
        "\n",
        "# Capitalize the first letter\n",
        "capitalized_string = my_string.capitalize()\n",
        "\n",
        "# Title case (capitalize the first letter of each word)\n",
        "title_case_string = my_string.title()\n",
        "\n",
        "print(capitalized_string, title_case_string)"
      ],
      "metadata": {
        "colab": {
          "base_uri": "https://localhost:8080/"
        },
        "id": "3ysAN-xfIrXX",
        "outputId": "85ede9af-d5b7-40ae-b01b-e42a472faa74"
      },
      "execution_count": null,
      "outputs": [
        {
          "output_type": "stream",
          "name": "stdout",
          "text": [
            "Hello world Hello World\n"
          ]
        }
      ]
    },
    {
      "cell_type": "markdown",
      "source": [],
      "metadata": {
        "id": "ywn1irPlIuJV"
      }
    },
    {
      "cell_type": "markdown",
      "source": [
        "## String Formatting (f-strings)"
      ],
      "metadata": {
        "id": "BdABgQfmJYP-"
      }
    },
    {
      "cell_type": "code",
      "source": [
        "name = \"Alice\"\n",
        "age = 30\n",
        "\n",
        "# Using f-strings\n",
        "formatted_string = f\"My name is {name} and I am {age} years old.\"\n",
        "\n",
        "print(formatted_string)\n"
      ],
      "metadata": {
        "colab": {
          "base_uri": "https://localhost:8080/"
        },
        "id": "QlRRPhA8Jcf1",
        "outputId": "bd3e7794-c897-4fe3-de41-b027dd59f34c"
      },
      "execution_count": null,
      "outputs": [
        {
          "output_type": "stream",
          "name": "stdout",
          "text": [
            "My name is Alice and I am 30 years old.\n"
          ]
        }
      ]
    },
    {
      "cell_type": "markdown",
      "source": [
        "## String Splitting and Joining"
      ],
      "metadata": {
        "id": "5xtnL-sAJet3"
      }
    },
    {
      "cell_type": "code",
      "source": [
        "my_string = \"apple,orange,banana\"\n",
        "\n",
        "# Split string into a list\n",
        "fruits_list = my_string.split(',')\n",
        "\n",
        "# Join list elements into a string\n",
        "new_string = '-'.join(fruits_list)\n",
        "\n",
        "print(fruits_list)\n",
        "print(new_string)\n"
      ],
      "metadata": {
        "colab": {
          "base_uri": "https://localhost:8080/"
        },
        "id": "pBBpNt0QJjxU",
        "outputId": "582a7e85-39fa-437f-f5ea-4bd07e351478"
      },
      "execution_count": null,
      "outputs": [
        {
          "output_type": "stream",
          "name": "stdout",
          "text": [
            "['apple', 'orange', 'banana']\n",
            "apple-orange-banana\n"
          ]
        }
      ]
    },
    {
      "cell_type": "markdown",
      "source": [
        "## Checking Substrings"
      ],
      "metadata": {
        "id": "v273d6lsJo22"
      }
    },
    {
      "cell_type": "code",
      "source": [
        "sentence = \"The quick brown fox jumps over the lazy dog\"\n",
        "\n",
        "# Check if a substring is present\n",
        "contains_fox = \"fox\" in sentence\n",
        "\n",
        "# Find the index of a substring\n",
        "index_of_brown = sentence.find(\"brown\")\n",
        "\n",
        "print(contains_fox, index_of_brown)\n"
      ],
      "metadata": {
        "colab": {
          "base_uri": "https://localhost:8080/"
        },
        "id": "ZXkp_vwOJrpp",
        "outputId": "101bc2f0-2116-48f2-cb2f-bd4ae55865c7"
      },
      "execution_count": null,
      "outputs": [
        {
          "output_type": "stream",
          "name": "stdout",
          "text": [
            "True 10\n"
          ]
        }
      ]
    },
    {
      "cell_type": "markdown",
      "source": [
        "## String Formatting with %"
      ],
      "metadata": {
        "id": "xeCmnw6sJtQU"
      }
    },
    {
      "cell_type": "code",
      "source": [
        "name = \"Bob\"\n",
        "age = 25\n",
        "\n",
        "# Using % for formatting\n",
        "formatted_string = \"My name is %s and I am %d years old.\" % (name, age)\n",
        "\n",
        "print(formatted_string)\n"
      ],
      "metadata": {
        "colab": {
          "base_uri": "https://localhost:8080/"
        },
        "id": "_rzT1M6zJzEj",
        "outputId": "94067325-20fe-43bc-9a2e-2e7deb8dd485"
      },
      "execution_count": null,
      "outputs": [
        {
          "output_type": "stream",
          "name": "stdout",
          "text": [
            "My name is Bob and I am 25 years old.\n"
          ]
        }
      ]
    },
    {
      "cell_type": "markdown",
      "source": [
        "## String formatting with `format`"
      ],
      "metadata": {
        "id": "zGjStjvqJ3dU"
      }
    },
    {
      "cell_type": "code",
      "source": [
        "name = \"Alice\"\n",
        "age = 30\n",
        "\n",
        "# Using the format method for string formatting\n",
        "formatted_string = \"My name is {} and I am {} years old.\".format(name, age)\n",
        "\n",
        "print(formatted_string)\n"
      ],
      "metadata": {
        "colab": {
          "base_uri": "https://localhost:8080/"
        },
        "id": "O6cIp4uVJ9CM",
        "outputId": "5864cc64-1016-41ac-f846-5289ece8cab0"
      },
      "execution_count": null,
      "outputs": [
        {
          "output_type": "stream",
          "name": "stdout",
          "text": [
            "My name is Alice and I am 30 years old.\n"
          ]
        }
      ]
    },
    {
      "cell_type": "markdown",
      "source": [
        "### Checking Membership"
      ],
      "metadata": {
        "id": "CuD34jTpOmsl"
      }
    },
    {
      "cell_type": "code",
      "source": [
        "fruits = (\"apple\", \"orange\", \"banana\")\n",
        "\n",
        "# Check if an item is in the tuple\n",
        "is_apple_present = \"apple\" in fruits\n",
        "is_grape_present = \"grape\" in fruits\n",
        "\n",
        "print(is_apple_present, is_grape_present)  # Output: True False"
      ],
      "metadata": {
        "colab": {
          "base_uri": "https://localhost:8080/"
        },
        "id": "9dzzgzIQOriQ",
        "outputId": "3f843e87-7973-4bd1-ff0a-b0ad0fe0feca"
      },
      "execution_count": null,
      "outputs": [
        {
          "output_type": "stream",
          "name": "stdout",
          "text": [
            "True False\n"
          ]
        }
      ]
    },
    {
      "cell_type": "markdown",
      "source": [
        "## Returning Multiple Values from a Function"
      ],
      "metadata": {
        "id": "doAHdUSVPK0C"
      }
    },
    {
      "cell_type": "code",
      "source": [
        "def return_coordinates():\n",
        "    x = 10\n",
        "    y = 20\n",
        "    z = 30\n",
        "    return x, y, z\n",
        "\n",
        "coordinates = return_coordinates()\n",
        "print(coordinates)  # Output: (10, 20, 30)\n"
      ],
      "metadata": {
        "id": "KFElha-FPM30",
        "colab": {
          "base_uri": "https://localhost:8080/"
        },
        "outputId": "2c885186-3f48-4718-d094-9482f900e205"
      },
      "execution_count": null,
      "outputs": [
        {
          "output_type": "stream",
          "name": "stdout",
          "text": [
            "(10, 20, 30)\n"
          ]
        }
      ]
    },
    {
      "cell_type": "markdown",
      "source": [
        "# Coding Examples"
      ],
      "metadata": {
        "id": "hrGIBf-fP9Hy"
      }
    },
    {
      "cell_type": "markdown",
      "source": [
        "## String in Uppercase\n",
        "Write a function that takes a string as input and returns the string in uppercase."
      ],
      "metadata": {
        "id": "MA6mYfPUQAke"
      }
    },
    {
      "cell_type": "code",
      "source": [
        "def to_uppercase(text):\n",
        "  return text.upper()\n",
        "\n",
        "\n",
        "input_string = input(\"Enter a string to be converted to uppercase:\")\n",
        "print(to_uppercase(input_string))"
      ],
      "metadata": {
        "colab": {
          "base_uri": "https://localhost:8080/"
        },
        "id": "64XGPcwNUTNc",
        "outputId": "d98d900b-36bd-4091-937d-82d947eb8a4e"
      },
      "execution_count": null,
      "outputs": [
        {
          "output_type": "stream",
          "name": "stdout",
          "text": [
            "Enter a string to be converted to uppercase:wer\n",
            "WER\n"
          ]
        }
      ]
    },
    {
      "cell_type": "markdown",
      "source": [
        "## List with characters longer than 5\n",
        "Write a function that takes a list of strings as input and returns a new list with all the strings that are longer than 5 characters."
      ],
      "metadata": {
        "id": "YNrPNonwVJQw"
      }
    },
    {
      "cell_type": "code",
      "source": [
        "def long_strings(strings):\n",
        "  return [string for string in strings if len(string) > 5]\n",
        "\n",
        "my_list = [\"python\", \"java\", \"c++\", \"go lang\", \"ruby\", \"c#\", \"javascript\"]\n",
        "print(long_strings(my_list))"
      ],
      "metadata": {
        "colab": {
          "base_uri": "https://localhost:8080/"
        },
        "id": "omabxAFXVRcZ",
        "outputId": "71ee9f40-6f43-4f13-dbc6-e2cf25107561"
      },
      "execution_count": null,
      "outputs": [
        {
          "output_type": "stream",
          "name": "stdout",
          "text": [
            "['python', 'go lang', 'javascript']\n"
          ]
        }
      ]
    },
    {
      "cell_type": "markdown",
      "source": [
        "## Check Palindrome\n",
        "Palindrome - a word, phrase, or sequence that reads the same backwards as forwards, e.g. madam.\n",
        "Write a program to find whether the given string is palindrome or not."
      ],
      "metadata": {
        "id": "H2hEfWX0XEXm"
      }
    },
    {
      "cell_type": "code",
      "source": [
        "def is_palindrome(s):\n",
        "  start = 0\n",
        "  end = len(s) - 1\n",
        "  while start < end:\n",
        "    if s[start] != s[end]:\n",
        "      return False\n",
        "    start += 1\n",
        "    end -= 1\n",
        "  return True\n",
        "\n",
        "input_string = input(\"Enter the string to check if palindrome or not:\")\n",
        "print(is_palindrome(input_string))"
      ],
      "metadata": {
        "colab": {
          "base_uri": "https://localhost:8080/"
        },
        "id": "Jmgs_UoMXVhy",
        "outputId": "f412442f-37dc-4b16-de66-dfe19b94d041"
      },
      "execution_count": null,
      "outputs": [
        {
          "output_type": "stream",
          "name": "stdout",
          "text": [
            "Enter the string to check if palindrome or not:sws\n",
            "True\n"
          ]
        }
      ]
    },
    {
      "cell_type": "markdown",
      "source": [
        "# Dictionaries in Python"
      ],
      "metadata": {
        "id": "Neww6vPep13A"
      }
    },
    {
      "cell_type": "markdown",
      "source": [
        "## Creating a Dictionary"
      ],
      "metadata": {
        "id": "x4QOoHBZqGkR"
      }
    },
    {
      "cell_type": "code",
      "source": [
        "# Creating a dictionary with key-value pairs\n",
        "my_dict = {'a': 1, 'b': 2, 'c': 3}\n",
        "\n",
        "\n",
        "# Creating a dictionary using the dict() constructor\n",
        "another_dict = dict([('x', 1), ('y', 2), ('z', 3)])"
      ],
      "metadata": {
        "id": "qgqQK8rfqLiM"
      },
      "execution_count": null,
      "outputs": []
    },
    {
      "cell_type": "markdown",
      "source": [
        "## Dictionary Membership Testing"
      ],
      "metadata": {
        "id": "U2Jjq68_qQpW"
      }
    },
    {
      "cell_type": "code",
      "source": [
        "# Check if a key is present in the dictionary\n",
        "print('a' in my_dict)\n",
        "print('d' in my_dict)\n"
      ],
      "metadata": {
        "colab": {
          "base_uri": "https://localhost:8080/"
        },
        "id": "rYLBu08AqTH8",
        "outputId": "622e4c67-740f-4e34-898b-9ac427593cce"
      },
      "execution_count": null,
      "outputs": [
        {
          "output_type": "stream",
          "name": "stdout",
          "text": [
            "True\n",
            "False\n"
          ]
        }
      ]
    },
    {
      "cell_type": "markdown",
      "source": [
        "## Dictionary Methods"
      ],
      "metadata": {
        "id": "LxYopKU9qZBR"
      }
    },
    {
      "cell_type": "markdown",
      "source": [
        "### get()"
      ],
      "metadata": {
        "id": "aWBM7kIdqeJ8"
      }
    },
    {
      "cell_type": "code",
      "source": [
        "# Retrieving value associated with a key\n",
        "print(my_dict.get('a'))  # Output: 1\n",
        "print(my_dict.get('d', 'Key not found'))  # Output: Key not found\n"
      ],
      "metadata": {
        "id": "RhpRE5TjqhfP"
      },
      "execution_count": null,
      "outputs": []
    },
    {
      "cell_type": "markdown",
      "source": [
        "### update()"
      ],
      "metadata": {
        "id": "dpKx2QYGqkhe"
      }
    },
    {
      "cell_type": "code",
      "source": [
        "# Adding or updating elements in the dictionary\n",
        "my_dict.update({'d': 4, 'e': 5})\n",
        "print(my_dict)  # Output: {'a': 1, 'b': 2, 'c': 3, 'd': 4, 'e': 5}\n"
      ],
      "metadata": {
        "id": "c7SHI81pqmND"
      },
      "execution_count": null,
      "outputs": []
    },
    {
      "cell_type": "markdown",
      "source": [
        "### pop()"
      ],
      "metadata": {
        "id": "VTfWFjU5qn-3"
      }
    },
    {
      "cell_type": "code",
      "source": [
        "# Removing and returning an element from the dictionary\n",
        "removed_value = my_dict.pop('a')\n",
        "print(removed_value)  # Output: 1\n",
        "print(my_dict)  # Output: {'b': 2, 'c': 3, 'd': 4, 'e': 5}\n"
      ],
      "metadata": {
        "id": "fVj_VIE1qq9e"
      },
      "execution_count": null,
      "outputs": []
    },
    {
      "cell_type": "markdown",
      "source": [
        "### clear()"
      ],
      "metadata": {
        "id": "DWrmqy17qrid"
      }
    },
    {
      "cell_type": "code",
      "source": [
        "# Clearing all elements from the dictionary\n",
        "my_dict.clear()\n",
        "print(my_dict)  # Output: {}\n"
      ],
      "metadata": {
        "id": "7R-6nmE7qtqY"
      },
      "execution_count": null,
      "outputs": []
    },
    {
      "cell_type": "code",
      "source": [
        "# Define a dictionary\n",
        "my_dict = {'a': 1, 'b': 2, 'c': 3}\n",
        "\n",
        "# Check membership\n",
        "print('b' in my_dict)  # Output: True\n",
        "\n",
        "# Iterate over items\n",
        "for key, value in my_dict.items():\n",
        "    print(key, \"->\", value)\n",
        "\n",
        "# Update dictionary\n",
        "my_dict.update({'d': 4})\n",
        "print(my_dict)  # Output: {'a': 1, 'b': 2, 'c': 3, 'd': 4}\n"
      ],
      "metadata": {
        "id": "1OF6toLzqwpy"
      },
      "execution_count": null,
      "outputs": []
    },
    {
      "cell_type": "markdown",
      "source": [
        "## Dictionary Iteration"
      ],
      "metadata": {
        "id": "24S18DRwq0py"
      }
    },
    {
      "cell_type": "markdown",
      "source": [
        "### Iterating Over Keys"
      ],
      "metadata": {
        "id": "5Ppg6bQ8q5XX"
      }
    },
    {
      "cell_type": "code",
      "source": [
        "# Iterating over keys\n",
        "for key in my_dict:\n",
        "    print(key, \"->\", my_dict[key])\n"
      ],
      "metadata": {
        "colab": {
          "base_uri": "https://localhost:8080/"
        },
        "id": "OoLlP03xq6-A",
        "outputId": "3d7510d8-4991-4e29-8431-242b09d97fe5"
      },
      "execution_count": null,
      "outputs": [
        {
          "output_type": "stream",
          "name": "stdout",
          "text": [
            "a -> 1\n",
            "b -> 2\n",
            "c -> 3\n"
          ]
        }
      ]
    },
    {
      "cell_type": "markdown",
      "source": [
        "### Iterating Over Items (Key-Value Pairs)"
      ],
      "metadata": {
        "id": "DXujhhC4q7jv"
      }
    },
    {
      "cell_type": "code",
      "source": [
        "# Iterating over items (key-value pairs)\n",
        "for key, value in my_dict.items():\n",
        "    print(key, \"->\", value)"
      ],
      "metadata": {
        "colab": {
          "base_uri": "https://localhost:8080/"
        },
        "id": "EhqvZCNBq-Y_",
        "outputId": "4448f95b-da27-4ce1-de8a-10d65b52acaf"
      },
      "execution_count": null,
      "outputs": [
        {
          "output_type": "stream",
          "name": "stdout",
          "text": [
            "a -> 1\n",
            "b -> 2\n",
            "c -> 3\n"
          ]
        }
      ]
    },
    {
      "cell_type": "markdown",
      "source": [
        "### Iterating Over Values"
      ],
      "metadata": {
        "id": "486fxHbvrCnz"
      }
    },
    {
      "cell_type": "code",
      "source": [
        "# Iterating over values\n",
        "for value in my_dict.values():\n",
        "    print(value)\n"
      ],
      "metadata": {
        "id": "7iPl3kYnrFsb"
      },
      "execution_count": null,
      "outputs": []
    },
    {
      "cell_type": "markdown",
      "source": [
        "## Nested Dictionary"
      ],
      "metadata": {
        "id": "yfGXUfmNrOwR"
      }
    },
    {
      "cell_type": "code",
      "source": [
        "# Creating a nested dictionary\n",
        "nested_dict = {\n",
        "    'person1': {'name': 'Alice', 'age': 30},\n",
        "    'person2': {'name': 'Bob', 'age': 25}\n",
        "}\n",
        "\n",
        "\n",
        "# Accessing values in a nested dictionary\n",
        "print(nested_dict['person1']['name'])  # Output: Alice\n",
        "print(nested_dict['person2']['age'])   # Output: 25\n",
        "\n",
        "\n",
        "# Modifying values in a nested dictionary\n",
        "nested_dict['person1']['age'] = 35\n",
        "print(nested_dict['person1'])  # Output: {'name': 'Alice', 'age': 35}\n",
        "\n",
        "\n",
        "# Adding elements to a nested dictionary\n",
        "nested_dict['person3'] = {'name': 'Charlie', 'age': 40}\n",
        "print(nested_dict['person3'])  # Output: {'name': 'Charlie', 'age': 40}\n",
        "\n",
        "\n",
        "# Iterating over a nested dictionary\n",
        "for person, details in nested_dict.items():\n",
        "    print(\"Person:\", person)\n",
        "    for key, value in details.items():\n",
        "        print(key + \":\", value)\n",
        "    print()\n",
        "\n",
        "\n",
        "# Nested dictionary with lists\n",
        "nested_dict_with_list = {\n",
        "    'person1': {'name': 'Alice', 'languages': ['Python', 'Java']},\n",
        "    'person2': {'name': 'Bob', 'languages': ['C++', 'JavaScript']}\n",
        "}\n",
        "\n",
        "# Accessing list elements in a nested dictionary\n",
        "print(nested_dict_with_list['person1']['languages'][0])  # Output: Python\n",
        "\n",
        "\n"
      ],
      "metadata": {
        "id": "zqlfJttnrSCZ"
      },
      "execution_count": null,
      "outputs": []
    }
  ]
}