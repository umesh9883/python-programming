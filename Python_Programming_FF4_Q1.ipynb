{
  "nbformat": 4,
  "nbformat_minor": 0,
  "metadata": {
    "colab": {
      "provenance": [],
      "include_colab_link": true
    },
    "kernelspec": {
      "name": "python3",
      "display_name": "Python 3"
    },
    "language_info": {
      "name": "python"
    }
  },
  "cells": [
    {
      "cell_type": "markdown",
      "metadata": {
        "id": "view-in-github",
        "colab_type": "text"
      },
      "source": [
        "<a href=\"https://colab.research.google.com/github/umesh9883/python-programming/blob/main/Python_Programming_FF4_Q1.ipynb\" target=\"_parent\"><img src=\"https://colab.research.google.com/assets/colab-badge.svg\" alt=\"Open In Colab\"/></a>"
      ]
    },
    {
      "cell_type": "markdown",
      "source": [
        "### Complete the Python program to create a calculator class. Include methods for basic arithmetic operations."
      ],
      "metadata": {
        "id": "pRnNUHA8HwLi"
      }
    },
    {
      "cell_type": "code",
      "execution_count": 6,
      "metadata": {
        "id": "Qcnens0LHPb3",
        "outputId": "68a019cc-ba92-4b69-dd53-2f225434c926",
        "colab": {
          "base_uri": "https://localhost:8080/"
        }
      },
      "outputs": [
        {
          "output_type": "stream",
          "name": "stdout",
          "text": [
            "7 + 5 = 12\n",
            "34 - 21 = 13\n",
            "54 * 2 = 108\n",
            "144 / 2 = 72.0\n",
            "Denominator is ZERO\n",
            "45 / 0 = None\n"
          ]
        }
      ],
      "source": [
        "# Define a class called Calculator to perform basic arithmetic operations\n",
        "class Calculator:\n",
        "    # Define a method for addition that takes two arguments and returns their sum\n",
        "    def add(self, x, y):\n",
        "        return x + y\n",
        "\n",
        "    # Define a method for subtraction that takes two arguments and returns their difference\n",
        "    def subtract(self, x, y):\n",
        "        return x - y\n",
        "\n",
        "    # Define a method for multiplication that takes two arguments and returns their product\n",
        "    def multiply(self, x, y):\n",
        "        return x * y\n",
        "\n",
        "    # Define a method for division that takes two arguments and returns the result if the denominator is not zero,\n",
        "    # or an error message if the denominator is zero\n",
        "    def divide(self, x, y):\n",
        "        try:\n",
        "          return x / y\n",
        "        except ZeroDivisionError as e:\n",
        "          print(\"Denominator is ZERO\")\n",
        "\n",
        "\n",
        "# Example usage\n",
        "# Create an instance of the Calculator class\n",
        "calculator=Calculator()\n",
        "\n",
        "# Perform addition and print the result\n",
        "result = calculator.add(7, 5)\n",
        "print(\"7 + 5 =\", result)\n",
        "\n",
        "# Perform subtraction and print the result\n",
        "result = calculator.subtract(34, 21)\n",
        "print(\"34 - 21 =\", result)\n",
        "\n",
        "# Perform multiplication and print the result\n",
        "result = calculator.multiply(54, 2)\n",
        "print(\"54 * 2 =\", result)\n",
        "\n",
        "# Perform division and print the result\n",
        "result = calculator.divide(144, 2)\n",
        "print(\"144 / 2 =\", result)\n",
        "\n",
        "# Attempt to perform division by zero, which raises an error, and print the error message\n",
        "result = calculator.divide(45, 0)\n",
        "print(\"45 / 0 =\", result)"
      ]
    }
  ]
}