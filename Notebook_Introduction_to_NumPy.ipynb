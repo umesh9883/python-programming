{
  "nbformat": 4,
  "nbformat_minor": 0,
  "metadata": {
    "colab": {
      "provenance": [],
      "include_colab_link": true
    },
    "kernelspec": {
      "name": "python3",
      "display_name": "Python 3"
    },
    "language_info": {
      "name": "python"
    }
  },
  "cells": [
    {
      "cell_type": "markdown",
      "metadata": {
        "id": "view-in-github",
        "colab_type": "text"
      },
      "source": [
        "<a href=\"https://colab.research.google.com/github/umesh9883/python-programming/blob/main/Notebook_Introduction_to_NumPy.ipynb\" target=\"_parent\"><img src=\"https://colab.research.google.com/assets/colab-badge.svg\" alt=\"Open In Colab\"/></a>"
      ]
    },
    {
      "cell_type": "markdown",
      "source": [
        "![numpylogo.svg](data:image/svg+xml;base64,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)"
      ],
      "metadata": {
        "id": "TvHxbMt6ttFb"
      }
    },
    {
      "cell_type": "markdown",
      "source": [
        "# Interview Kickstart\n",
        "\n",
        "## Numpy Basics\n",
        "\n",
        "Author: Anshaj Khare\n",
        "\n",
        "\n",
        "---\n",
        "\n"
      ],
      "metadata": {
        "id": "gA4ysS6aVMFh"
      }
    },
    {
      "cell_type": "code",
      "source": [
        "import numpy as np\n",
        "\n",
        "# How to create our first array\n",
        "\n",
        "array_1 = np.array([1,2,3,4,5])\n",
        "\n",
        "print(array_1)"
      ],
      "metadata": {
        "colab": {
          "base_uri": "https://localhost:8080/"
        },
        "id": "VzSG20kawpAl",
        "outputId": "63afac92-3197-476b-a141-ac290125a3c1"
      },
      "execution_count": 1,
      "outputs": [
        {
          "output_type": "stream",
          "name": "stdout",
          "text": [
            "[1 2 3 4 5]\n"
          ]
        }
      ]
    },
    {
      "cell_type": "code",
      "source": [
        "# Properties associated with our numpy array\n",
        "\n",
        "print(\"Array 1, NDim:\", array_1.ndim)\n",
        "print(\"Array 1, Shape:\", array_1.shape)\n",
        "print(\"Array 1, Size:\", array_1.size)\n",
        "print(\"Array 1, Dtype:\", array_1.dtype)"
      ],
      "metadata": {
        "colab": {
          "base_uri": "https://localhost:8080/"
        },
        "id": "E474jaCyw4C3",
        "outputId": "ef89ed44-84be-4f2e-8d91-4cda5f20773f"
      },
      "execution_count": null,
      "outputs": [
        {
          "output_type": "stream",
          "name": "stdout",
          "text": [
            "Array 1, NDim: 1\n",
            "Array 1, Shape: (5,)\n",
            "Array 1, Size: 5\n",
            "Array 1, Dtype: int64\n"
          ]
        }
      ]
    },
    {
      "cell_type": "code",
      "source": [
        "array_2 = np.array([[1,2,3,4,5],[6,7,8,9,10]])\n",
        "print(\"Array 2\")\n",
        "print(array_2)\n",
        "\n",
        "print(\"Array 2, Ndim:\", array_2.ndim)\n",
        "print(\"Array 2, Shape:\", array_2.shape)\n",
        "print(\"Array 2, Size:\", array_2.size)\n",
        "print(\"Array 2, Dtype:\", array_2.dtype)"
      ],
      "metadata": {
        "colab": {
          "base_uri": "https://localhost:8080/"
        },
        "id": "kIl48ivpxX5E",
        "outputId": "f8f06763-8258-4bf1-9b70-151569289471"
      },
      "execution_count": null,
      "outputs": [
        {
          "output_type": "stream",
          "name": "stdout",
          "text": [
            "Array 2\n",
            "[[ 1  2  3  4  5]\n",
            " [ 6  7  8  9 10]]\n",
            "Array 2, Ndim: 2\n",
            "Array 2, Shape: (2, 5)\n",
            "Array 2, Size: 10\n",
            "Array 2, Dtype: int64\n"
          ]
        }
      ]
    },
    {
      "cell_type": "code",
      "source": [
        "# Reshaping the array\n",
        "\n",
        "array_3 = np.array([[1,2,3,4,5], [6,7,8,9,10], [11,12,13,14,15]])\n",
        "print(\"Array 3\")\n",
        "print(array_3)\n",
        "print('------')\n",
        "print(\"After reshaping\")\n",
        "print(array_3.reshape(5,3))"
      ],
      "metadata": {
        "colab": {
          "base_uri": "https://localhost:8080/"
        },
        "id": "6NaIm2qF5d7y",
        "outputId": "bc7505e3-d94d-4ddd-bb6b-9b2ad777057b"
      },
      "execution_count": null,
      "outputs": [
        {
          "output_type": "stream",
          "name": "stdout",
          "text": [
            "Array 3\n",
            "[[ 1  2  3  4  5]\n",
            " [ 6  7  8  9 10]\n",
            " [11 12 13 14 15]]\n",
            "------\n",
            "After reshaping\n",
            "[[ 1  2  3]\n",
            " [ 4  5  6]\n",
            " [ 7  8  9]\n",
            " [10 11 12]\n",
            " [13 14 15]]\n"
          ]
        }
      ]
    },
    {
      "cell_type": "code",
      "source": [
        "array_3.reshape(5,2)"
      ],
      "metadata": {
        "colab": {
          "base_uri": "https://localhost:8080/",
          "height": 179
        },
        "id": "KLeYN4YO599z",
        "outputId": "ec4c4f5d-719c-4722-b78b-7e19ac4aa7fd"
      },
      "execution_count": null,
      "outputs": [
        {
          "output_type": "error",
          "ename": "ValueError",
          "evalue": "cannot reshape array of size 15 into shape (5,2)",
          "traceback": [
            "\u001b[0;31m---------------------------------------------------------------------------\u001b[0m",
            "\u001b[0;31mValueError\u001b[0m                                Traceback (most recent call last)",
            "\u001b[0;32m<ipython-input-14-709b5207b59a>\u001b[0m in \u001b[0;36m<cell line: 1>\u001b[0;34m()\u001b[0m\n\u001b[0;32m----> 1\u001b[0;31m \u001b[0marray_3\u001b[0m\u001b[0;34m.\u001b[0m\u001b[0mreshape\u001b[0m\u001b[0;34m(\u001b[0m\u001b[0;36m5\u001b[0m\u001b[0;34m,\u001b[0m\u001b[0;36m2\u001b[0m\u001b[0;34m)\u001b[0m\u001b[0;34m\u001b[0m\u001b[0;34m\u001b[0m\u001b[0m\n\u001b[0m",
            "\u001b[0;31mValueError\u001b[0m: cannot reshape array of size 15 into shape (5,2)"
          ]
        }
      ]
    },
    {
      "cell_type": "code",
      "source": [
        "array_3.reshape(15,1)"
      ],
      "metadata": {
        "colab": {
          "base_uri": "https://localhost:8080/"
        },
        "id": "1_OrgjUr6Gib",
        "outputId": "2ecce0f2-90e7-442b-9ab0-ff41bf2d1b69"
      },
      "execution_count": null,
      "outputs": [
        {
          "output_type": "execute_result",
          "data": {
            "text/plain": [
              "array([[ 1],\n",
              "       [ 2],\n",
              "       [ 3],\n",
              "       [ 4],\n",
              "       [ 5],\n",
              "       [ 6],\n",
              "       [ 7],\n",
              "       [ 8],\n",
              "       [ 9],\n",
              "       [10],\n",
              "       [11],\n",
              "       [12],\n",
              "       [13],\n",
              "       [14],\n",
              "       [15]])"
            ]
          },
          "metadata": {},
          "execution_count": 15
        }
      ]
    },
    {
      "cell_type": "code",
      "source": [
        "# Indexing and slicing numpy arrays\n",
        "\n",
        "## Numpy indexing and slicing is the same as python lists\n",
        "\n",
        "data = np.array([1,2,3])\n",
        "data"
      ],
      "metadata": {
        "colab": {
          "base_uri": "https://localhost:8080/"
        },
        "id": "eCBedDCh6NQv",
        "outputId": "975a0e84-a510-4f80-e592-4f53c561d058"
      },
      "execution_count": null,
      "outputs": [
        {
          "output_type": "execute_result",
          "data": {
            "text/plain": [
              "array([1, 2, 3])"
            ]
          },
          "metadata": {},
          "execution_count": 17
        }
      ]
    },
    {
      "cell_type": "code",
      "source": [
        "data[0]"
      ],
      "metadata": {
        "colab": {
          "base_uri": "https://localhost:8080/"
        },
        "id": "-A8fQC7b6fQG",
        "outputId": "c3bc1a8d-2380-4f56-b67f-84583a6ac1cf"
      },
      "execution_count": null,
      "outputs": [
        {
          "output_type": "execute_result",
          "data": {
            "text/plain": [
              "1"
            ]
          },
          "metadata": {},
          "execution_count": 18
        }
      ]
    },
    {
      "cell_type": "code",
      "source": [
        "data[1]"
      ],
      "metadata": {
        "colab": {
          "base_uri": "https://localhost:8080/"
        },
        "id": "U1lMcY0c6iQN",
        "outputId": "22185656-41cf-4975-8b95-45b14a07f4a8"
      },
      "execution_count": null,
      "outputs": [
        {
          "output_type": "execute_result",
          "data": {
            "text/plain": [
              "2"
            ]
          },
          "metadata": {},
          "execution_count": 19
        }
      ]
    },
    {
      "cell_type": "code",
      "source": [
        "data[0:2]"
      ],
      "metadata": {
        "colab": {
          "base_uri": "https://localhost:8080/"
        },
        "id": "EA1ofKCc6kfr",
        "outputId": "e68e59d8-afe6-42e1-cf00-d1129f9e5ef7"
      },
      "execution_count": null,
      "outputs": [
        {
          "output_type": "execute_result",
          "data": {
            "text/plain": [
              "array([1, 2])"
            ]
          },
          "metadata": {},
          "execution_count": 20
        }
      ]
    },
    {
      "cell_type": "code",
      "source": [
        "data[1:]"
      ],
      "metadata": {
        "colab": {
          "base_uri": "https://localhost:8080/"
        },
        "id": "30vA3v3O6oeT",
        "outputId": "85793f01-6dbc-4eea-9648-d16b8c0d60da"
      },
      "execution_count": null,
      "outputs": [
        {
          "output_type": "execute_result",
          "data": {
            "text/plain": [
              "array([2, 3])"
            ]
          },
          "metadata": {},
          "execution_count": 21
        }
      ]
    },
    {
      "cell_type": "code",
      "source": [
        "data[-2:]"
      ],
      "metadata": {
        "colab": {
          "base_uri": "https://localhost:8080/"
        },
        "id": "nVvParCt6qUg",
        "outputId": "f0053a43-acf4-4538-f21b-5d386d2016b9"
      },
      "execution_count": null,
      "outputs": [
        {
          "output_type": "execute_result",
          "data": {
            "text/plain": [
              "array([2, 3])"
            ]
          },
          "metadata": {},
          "execution_count": 22
        }
      ]
    },
    {
      "cell_type": "code",
      "source": [
        "## Methods to create an array fast\n",
        "\n",
        "np.zeros(10, dtype=np.int64)"
      ],
      "metadata": {
        "colab": {
          "base_uri": "https://localhost:8080/"
        },
        "id": "fSA5mxGK8Cw3",
        "outputId": "6fc95d4c-c67a-4f2d-9f67-8f1ac5ddbb39"
      },
      "execution_count": null,
      "outputs": [
        {
          "output_type": "execute_result",
          "data": {
            "text/plain": [
              "array([0, 0, 0, 0, 0, 0, 0, 0, 0, 0])"
            ]
          },
          "metadata": {},
          "execution_count": 24
        }
      ]
    },
    {
      "cell_type": "code",
      "source": [
        "np.ones(5)"
      ],
      "metadata": {
        "colab": {
          "base_uri": "https://localhost:8080/"
        },
        "id": "6YXCoZ8D8cTY",
        "outputId": "49e508a2-adcb-4d33-ae9b-be91d10b47cf"
      },
      "execution_count": null,
      "outputs": [
        {
          "output_type": "execute_result",
          "data": {
            "text/plain": [
              "array([1., 1., 1., 1., 1.])"
            ]
          },
          "metadata": {},
          "execution_count": 25
        }
      ]
    },
    {
      "cell_type": "code",
      "source": [
        "np.arange(2,50,3)"
      ],
      "metadata": {
        "colab": {
          "base_uri": "https://localhost:8080/"
        },
        "id": "0qTBOwtL8igy",
        "outputId": "3fb8aae9-4abc-4e1a-ef3f-c2515b3a6e1e"
      },
      "execution_count": null,
      "outputs": [
        {
          "output_type": "execute_result",
          "data": {
            "text/plain": [
              "array([ 2,  5,  8, 11, 14, 17, 20, 23, 26, 29, 32, 35, 38, 41, 44, 47])"
            ]
          },
          "metadata": {},
          "execution_count": 28
        }
      ]
    },
    {
      "cell_type": "code",
      "source": [
        "np.linspace(0, 10, num=5)"
      ],
      "metadata": {
        "colab": {
          "base_uri": "https://localhost:8080/"
        },
        "id": "Lzlf0SEH805D",
        "outputId": "25809189-0682-4c44-9fe6-bb73b7d32458"
      },
      "execution_count": null,
      "outputs": [
        {
          "output_type": "execute_result",
          "data": {
            "text/plain": [
              "array([ 0. ,  2.5,  5. ,  7.5, 10. ])"
            ]
          },
          "metadata": {},
          "execution_count": 29
        }
      ]
    },
    {
      "cell_type": "code",
      "source": [
        "# Adding and sorting elements in a numpy array\n",
        "\n",
        "array_4 = np.array([2,1, 5, 10, 19, 12, 8, 15])"
      ],
      "metadata": {
        "id": "oqU373Zg9BHb"
      },
      "execution_count": null,
      "outputs": []
    },
    {
      "cell_type": "code",
      "source": [
        "np.sort(array_4)"
      ],
      "metadata": {
        "colab": {
          "base_uri": "https://localhost:8080/"
        },
        "id": "M5yjoXcf9JbY",
        "outputId": "bda59c20-22a6-4aad-a7d6-2872847260ce"
      },
      "execution_count": null,
      "outputs": [
        {
          "output_type": "execute_result",
          "data": {
            "text/plain": [
              "array([ 1,  2,  5,  8, 10, 12, 15, 19])"
            ]
          },
          "metadata": {},
          "execution_count": 31
        }
      ]
    },
    {
      "cell_type": "code",
      "source": [
        "array_4"
      ],
      "metadata": {
        "colab": {
          "base_uri": "https://localhost:8080/"
        },
        "id": "hqEtHnK19PVc",
        "outputId": "b63b3f67-e3fc-4a16-edea-f03a095c42d9"
      },
      "execution_count": null,
      "outputs": [
        {
          "output_type": "execute_result",
          "data": {
            "text/plain": [
              "array([ 2,  1,  5, 10, 19, 12,  8, 15])"
            ]
          },
          "metadata": {},
          "execution_count": 32
        }
      ]
    },
    {
      "cell_type": "code",
      "source": [
        "## Arrays can be concatenated\n",
        "\n",
        "x = np.array([[1,2], [3,4]])\n",
        "y = np.array([[5,6]])\n",
        "\n",
        "print(x)\n",
        "print('-----')\n",
        "print(y)\n",
        "print('-----')\n",
        "print(np.concatenate((x, y), axis=0))"
      ],
      "metadata": {
        "colab": {
          "base_uri": "https://localhost:8080/"
        },
        "id": "9vfkKzaE9RaH",
        "outputId": "811ddfb1-df44-4fab-f393-89b3c4d9d92d"
      },
      "execution_count": null,
      "outputs": [
        {
          "output_type": "stream",
          "name": "stdout",
          "text": [
            "[[1 2]\n",
            " [3 4]]\n",
            "-----\n",
            "[[5 6]]\n",
            "-----\n",
            "[[1 2]\n",
            " [3 4]\n",
            " [5 6]]\n"
          ]
        }
      ]
    },
    {
      "cell_type": "code",
      "source": [
        "# Basic Array Operations\n",
        "\n",
        "array_5 = np.array([1,2])\n",
        "array_6 = np.ones(2, dtype=int)\n",
        "\n",
        "print(array_5)\n",
        "print(array_6)"
      ],
      "metadata": {
        "colab": {
          "base_uri": "https://localhost:8080/"
        },
        "id": "scFBaNdeD7io",
        "outputId": "e0e9a09d-b2e0-4f0a-adc7-4822032c1660"
      },
      "execution_count": null,
      "outputs": [
        {
          "output_type": "stream",
          "name": "stdout",
          "text": [
            "[1 2]\n",
            "[1 1]\n"
          ]
        }
      ]
    },
    {
      "cell_type": "code",
      "source": [
        "array_5 + array_6"
      ],
      "metadata": {
        "colab": {
          "base_uri": "https://localhost:8080/"
        },
        "id": "_WZy-sdHELr1",
        "outputId": "b89f0da3-2992-482e-fd03-162394b94e96"
      },
      "execution_count": null,
      "outputs": [
        {
          "output_type": "execute_result",
          "data": {
            "text/plain": [
              "array([2, 3])"
            ]
          },
          "metadata": {},
          "execution_count": 37
        }
      ]
    },
    {
      "cell_type": "code",
      "source": [
        "array_5 - array_6"
      ],
      "metadata": {
        "colab": {
          "base_uri": "https://localhost:8080/"
        },
        "id": "PWAh1Cf9EPCN",
        "outputId": "11b0b43e-499a-4ba8-a0f5-a36f5fae6cc4"
      },
      "execution_count": null,
      "outputs": [
        {
          "output_type": "execute_result",
          "data": {
            "text/plain": [
              "array([0, 1])"
            ]
          },
          "metadata": {},
          "execution_count": 38
        }
      ]
    },
    {
      "cell_type": "code",
      "source": [
        "array_5 * array_6"
      ],
      "metadata": {
        "colab": {
          "base_uri": "https://localhost:8080/"
        },
        "id": "BvChT0nTETmr",
        "outputId": "3b9377f2-d42f-4078-f04e-46dcd212d713"
      },
      "execution_count": null,
      "outputs": [
        {
          "output_type": "execute_result",
          "data": {
            "text/plain": [
              "array([1, 2])"
            ]
          },
          "metadata": {},
          "execution_count": 39
        }
      ]
    },
    {
      "cell_type": "code",
      "source": [
        "## Summation of values in an array\n",
        "\n",
        "array_7 = np.arange(2, 20, 2)\n",
        "array_7"
      ],
      "metadata": {
        "colab": {
          "base_uri": "https://localhost:8080/"
        },
        "id": "EORx7p0kEXwC",
        "outputId": "7e184ec9-3b28-40da-a542-06b6a0d29c7a"
      },
      "execution_count": null,
      "outputs": [
        {
          "output_type": "execute_result",
          "data": {
            "text/plain": [
              "array([ 2,  4,  6,  8, 10, 12, 14, 16, 18])"
            ]
          },
          "metadata": {},
          "execution_count": 40
        }
      ]
    },
    {
      "cell_type": "code",
      "source": [
        "array_7.sum()"
      ],
      "metadata": {
        "colab": {
          "base_uri": "https://localhost:8080/"
        },
        "id": "mJOSGaQSErb1",
        "outputId": "65fef777-e5a6-4643-cc7f-06ab9e6eb495"
      },
      "execution_count": null,
      "outputs": [
        {
          "output_type": "execute_result",
          "data": {
            "text/plain": [
              "90"
            ]
          },
          "metadata": {},
          "execution_count": 41
        }
      ]
    },
    {
      "cell_type": "code",
      "source": [
        "array_7.min()"
      ],
      "metadata": {
        "colab": {
          "base_uri": "https://localhost:8080/"
        },
        "id": "2SBmcq5lEv6X",
        "outputId": "354be98b-9c0e-4cf3-ae30-1e9a936670b5"
      },
      "execution_count": null,
      "outputs": [
        {
          "output_type": "execute_result",
          "data": {
            "text/plain": [
              "2"
            ]
          },
          "metadata": {},
          "execution_count": 42
        }
      ]
    },
    {
      "cell_type": "code",
      "source": [
        "array_7.max()"
      ],
      "metadata": {
        "colab": {
          "base_uri": "https://localhost:8080/"
        },
        "id": "2GrvLwBpEzkP",
        "outputId": "c6a866fa-0349-4037-87c4-2556c6631919"
      },
      "execution_count": null,
      "outputs": [
        {
          "output_type": "execute_result",
          "data": {
            "text/plain": [
              "18"
            ]
          },
          "metadata": {},
          "execution_count": 43
        }
      ]
    },
    {
      "cell_type": "code",
      "source": [],
      "metadata": {
        "id": "OPLnFXnV0oDj"
      },
      "execution_count": null,
      "outputs": []
    },
    {
      "cell_type": "code",
      "source": [
        "array_7.mean()"
      ],
      "metadata": {
        "colab": {
          "base_uri": "https://localhost:8080/"
        },
        "id": "9oKbbvKVE1p4",
        "outputId": "495ecb46-264d-42c3-c770-a287322fca3f"
      },
      "execution_count": null,
      "outputs": [
        {
          "output_type": "execute_result",
          "data": {
            "text/plain": [
              "10.0"
            ]
          },
          "metadata": {},
          "execution_count": 44
        }
      ]
    },
    {
      "cell_type": "code",
      "source": [
        "# Broadcasting\n",
        "\n",
        "array_8 = np.array([1, 3, 5, 9])\n",
        "\n",
        "array_8 * 3.14"
      ],
      "metadata": {
        "colab": {
          "base_uri": "https://localhost:8080/"
        },
        "id": "fDDCIMtDE-Rp",
        "outputId": "6f397c73-c860-413a-8d3e-57a5323313d6"
      },
      "execution_count": null,
      "outputs": [
        {
          "output_type": "execute_result",
          "data": {
            "text/plain": [
              "array([ 3.14,  9.42, 15.7 , 28.26])"
            ]
          },
          "metadata": {},
          "execution_count": 46
        }
      ]
    },
    {
      "cell_type": "code",
      "source": [
        "# Filtering in numpy arrays\n",
        "\n",
        "array_9 = np.array([10, 12, 8, 4, 5, 1, 7, 22, 40, 6])"
      ],
      "metadata": {
        "id": "RLNfDRRvFWH-"
      },
      "execution_count": null,
      "outputs": []
    },
    {
      "cell_type": "code",
      "source": [
        "array_9 > 20"
      ],
      "metadata": {
        "colab": {
          "base_uri": "https://localhost:8080/"
        },
        "id": "1zrZVOaUG_ak",
        "outputId": "43f477ce-571d-43e1-e9ba-2e66c74a0303"
      },
      "execution_count": null,
      "outputs": [
        {
          "output_type": "execute_result",
          "data": {
            "text/plain": [
              "array([False, False, False, False, False, False, False,  True,  True,\n",
              "       False])"
            ]
          },
          "metadata": {},
          "execution_count": 50
        }
      ]
    },
    {
      "cell_type": "code",
      "source": [
        "array_9[array_9 > 20]"
      ],
      "metadata": {
        "colab": {
          "base_uri": "https://localhost:8080/"
        },
        "id": "XSvR5mpXHWlI",
        "outputId": "775f6b85-cfc5-4b4b-9e75-b4bbc07c7821"
      },
      "execution_count": null,
      "outputs": [
        {
          "output_type": "execute_result",
          "data": {
            "text/plain": [
              "array([22, 40])"
            ]
          },
          "metadata": {},
          "execution_count": 51
        }
      ]
    },
    {
      "cell_type": "code",
      "source": [
        "array_9[array_9 <= 10]"
      ],
      "metadata": {
        "colab": {
          "base_uri": "https://localhost:8080/"
        },
        "id": "jlPEu0YlHgA-",
        "outputId": "55206448-84c6-4c71-eb25-1236f2bf10cf"
      },
      "execution_count": null,
      "outputs": [
        {
          "output_type": "execute_result",
          "data": {
            "text/plain": [
              "array([10,  8,  4,  5,  1,  7,  6])"
            ]
          },
          "metadata": {},
          "execution_count": 52
        }
      ]
    },
    {
      "cell_type": "code",
      "source": [
        "array_9[(array_9 >= 10) & (array_9 <= 30 )]"
      ],
      "metadata": {
        "colab": {
          "base_uri": "https://localhost:8080/"
        },
        "id": "FOlfafT2HrOv",
        "outputId": "15698349-d889-479b-af21-17c0cf386f12"
      },
      "execution_count": null,
      "outputs": [
        {
          "output_type": "execute_result",
          "data": {
            "text/plain": [
              "array([10, 12, 22])"
            ]
          },
          "metadata": {},
          "execution_count": 58
        }
      ]
    },
    {
      "cell_type": "code",
      "source": [
        "# How to save and load numpy objects\n",
        "\n",
        "array_10 = np.array([1,2,3,4,5,6,7,8])\n",
        "array_10"
      ],
      "metadata": {
        "colab": {
          "base_uri": "https://localhost:8080/"
        },
        "id": "aLPe-lLCKq2i",
        "outputId": "a52d98e5-c013-4fda-bc4a-fa6d995e3476"
      },
      "execution_count": null,
      "outputs": [
        {
          "output_type": "execute_result",
          "data": {
            "text/plain": [
              "array([1, 2, 3, 4, 5, 6, 7, 8])"
            ]
          },
          "metadata": {},
          "execution_count": 59
        }
      ]
    },
    {
      "cell_type": "code",
      "source": [
        "np.save('tenth_array', array_10)"
      ],
      "metadata": {
        "id": "T9EzeZjoNdT0"
      },
      "execution_count": null,
      "outputs": []
    },
    {
      "cell_type": "code",
      "source": [
        "! ls"
      ],
      "metadata": {
        "colab": {
          "base_uri": "https://localhost:8080/"
        },
        "id": "gkb7ZYUzNn3f",
        "outputId": "568eae38-6a4b-4b29-c04d-2311b58f44f7"
      },
      "execution_count": null,
      "outputs": [
        {
          "output_type": "stream",
          "name": "stdout",
          "text": [
            "sample_data  tenth_array.npy\n"
          ]
        }
      ]
    },
    {
      "cell_type": "code",
      "source": [
        "array_11 = np.load('tenth_array.npy')\n",
        "array_11"
      ],
      "metadata": {
        "colab": {
          "base_uri": "https://localhost:8080/"
        },
        "id": "7x8_WqgHNuiq",
        "outputId": "554e2a74-a62c-4f68-e4fa-a0d51370c545"
      },
      "execution_count": null,
      "outputs": [
        {
          "output_type": "execute_result",
          "data": {
            "text/plain": [
              "array([1, 2, 3, 4, 5, 6, 7, 8])"
            ]
          },
          "metadata": {},
          "execution_count": 62
        }
      ]
    },
    {
      "cell_type": "code",
      "source": [
        "np.savetxt('tenth_array_in_csv.csv', array_10)\n"
      ],
      "metadata": {
        "id": "rVnCVtvHN4Gv"
      },
      "execution_count": null,
      "outputs": []
    },
    {
      "cell_type": "code",
      "source": [
        "! ls"
      ],
      "metadata": {
        "colab": {
          "base_uri": "https://localhost:8080/"
        },
        "id": "MkLMl-qgOFXl",
        "outputId": "e1ec4df4-610c-4ac1-e0c8-3425d5ec1d1b"
      },
      "execution_count": null,
      "outputs": [
        {
          "output_type": "stream",
          "name": "stdout",
          "text": [
            "sample_data  tenth_array_in_csv.csv  tenth_array.npy\n"
          ]
        }
      ]
    },
    {
      "cell_type": "code",
      "source": [
        "! cat tenth_array_in_csv.csv"
      ],
      "metadata": {
        "colab": {
          "base_uri": "https://localhost:8080/"
        },
        "id": "ek-bJ0P9OIV0",
        "outputId": "dba2ea8d-0421-436c-c699-0f763f6aec39"
      },
      "execution_count": null,
      "outputs": [
        {
          "output_type": "stream",
          "name": "stdout",
          "text": [
            "1.000000000000000000e+00\n",
            "2.000000000000000000e+00\n",
            "3.000000000000000000e+00\n",
            "4.000000000000000000e+00\n",
            "5.000000000000000000e+00\n",
            "6.000000000000000000e+00\n",
            "7.000000000000000000e+00\n",
            "8.000000000000000000e+00\n"
          ]
        }
      ]
    },
    {
      "cell_type": "code",
      "source": [
        "array_12 = np.loadtxt('tenth_array_in_csv.csv')\n",
        "array_12"
      ],
      "metadata": {
        "colab": {
          "base_uri": "https://localhost:8080/"
        },
        "id": "y4WnnAtqORdx",
        "outputId": "428e3e2f-1043-48b7-d747-bab30ce3e8a1"
      },
      "execution_count": null,
      "outputs": [
        {
          "output_type": "execute_result",
          "data": {
            "text/plain": [
              "array([1., 2., 3., 4., 5., 6., 7., 8.])"
            ]
          },
          "metadata": {},
          "execution_count": 66
        }
      ]
    },
    {
      "cell_type": "code",
      "source": [],
      "metadata": {
        "id": "0Y4I81fyObut"
      },
      "execution_count": null,
      "outputs": []
    }
  ]
}